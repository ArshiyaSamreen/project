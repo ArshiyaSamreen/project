{
 "cells": [
  {
   "cell_type": "code",
   "execution_count": 1,
   "metadata": {},
   "outputs": [],
   "source": [
    "import pandas as pd\n",
    "import numpy as np\n",
    "import matplotlib.pyplot as plt\n",
    "import seaborn as sns\n",
    "\n",
    "from IPython.core.interactiveshell import InteractiveShell\n",
    "InteractiveShell.ast_node_interactivity = \"all\""
   ]
  },
  {
   "cell_type": "code",
   "execution_count": 2,
   "metadata": {},
   "outputs": [],
   "source": [
    "cols = []\n",
    "for i in range(1,281,1):\n",
    "    cols.append(i)"
   ]
  },
  {
   "cell_type": "code",
   "execution_count": 20,
   "metadata": {},
   "outputs": [],
   "source": [
    "df_train=pd.read_csv('blogData_train.csv',header = None)\n",
    "\n"
   ]
  },
  {
   "cell_type": "code",
   "execution_count": 21,
   "metadata": {},
   "outputs": [
    {
     "data": {
      "text/html": [
       "<div>\n",
       "<style scoped>\n",
       "    .dataframe tbody tr th:only-of-type {\n",
       "        vertical-align: middle;\n",
       "    }\n",
       "\n",
       "    .dataframe tbody tr th {\n",
       "        vertical-align: top;\n",
       "    }\n",
       "\n",
       "    .dataframe thead th {\n",
       "        text-align: right;\n",
       "    }\n",
       "</style>\n",
       "<table border=\"1\" class=\"dataframe\">\n",
       "  <thead>\n",
       "    <tr style=\"text-align: right;\">\n",
       "      <th></th>\n",
       "      <th>0</th>\n",
       "      <th>1</th>\n",
       "      <th>2</th>\n",
       "      <th>3</th>\n",
       "      <th>4</th>\n",
       "      <th>5</th>\n",
       "      <th>6</th>\n",
       "      <th>7</th>\n",
       "      <th>8</th>\n",
       "      <th>9</th>\n",
       "      <th>...</th>\n",
       "      <th>271</th>\n",
       "      <th>272</th>\n",
       "      <th>273</th>\n",
       "      <th>274</th>\n",
       "      <th>275</th>\n",
       "      <th>276</th>\n",
       "      <th>277</th>\n",
       "      <th>278</th>\n",
       "      <th>279</th>\n",
       "      <th>280</th>\n",
       "    </tr>\n",
       "  </thead>\n",
       "  <tbody>\n",
       "    <tr>\n",
       "      <th>0</th>\n",
       "      <td>40.30467</td>\n",
       "      <td>53.845657</td>\n",
       "      <td>0.0</td>\n",
       "      <td>401.0</td>\n",
       "      <td>15.0</td>\n",
       "      <td>15.52416</td>\n",
       "      <td>32.44188</td>\n",
       "      <td>0.0</td>\n",
       "      <td>377.0</td>\n",
       "      <td>3.0</td>\n",
       "      <td>...</td>\n",
       "      <td>0.0</td>\n",
       "      <td>1.0</td>\n",
       "      <td>0.0</td>\n",
       "      <td>0.0</td>\n",
       "      <td>0.0</td>\n",
       "      <td>0.0</td>\n",
       "      <td>0.0</td>\n",
       "      <td>0.0</td>\n",
       "      <td>0.0</td>\n",
       "      <td>1.0</td>\n",
       "    </tr>\n",
       "    <tr>\n",
       "      <th>1</th>\n",
       "      <td>40.30467</td>\n",
       "      <td>53.845657</td>\n",
       "      <td>0.0</td>\n",
       "      <td>401.0</td>\n",
       "      <td>15.0</td>\n",
       "      <td>15.52416</td>\n",
       "      <td>32.44188</td>\n",
       "      <td>0.0</td>\n",
       "      <td>377.0</td>\n",
       "      <td>3.0</td>\n",
       "      <td>...</td>\n",
       "      <td>1.0</td>\n",
       "      <td>0.0</td>\n",
       "      <td>0.0</td>\n",
       "      <td>0.0</td>\n",
       "      <td>0.0</td>\n",
       "      <td>0.0</td>\n",
       "      <td>0.0</td>\n",
       "      <td>0.0</td>\n",
       "      <td>0.0</td>\n",
       "      <td>0.0</td>\n",
       "    </tr>\n",
       "    <tr>\n",
       "      <th>2</th>\n",
       "      <td>40.30467</td>\n",
       "      <td>53.845657</td>\n",
       "      <td>0.0</td>\n",
       "      <td>401.0</td>\n",
       "      <td>15.0</td>\n",
       "      <td>15.52416</td>\n",
       "      <td>32.44188</td>\n",
       "      <td>0.0</td>\n",
       "      <td>377.0</td>\n",
       "      <td>3.0</td>\n",
       "      <td>...</td>\n",
       "      <td>1.0</td>\n",
       "      <td>0.0</td>\n",
       "      <td>0.0</td>\n",
       "      <td>0.0</td>\n",
       "      <td>0.0</td>\n",
       "      <td>0.0</td>\n",
       "      <td>0.0</td>\n",
       "      <td>0.0</td>\n",
       "      <td>0.0</td>\n",
       "      <td>0.0</td>\n",
       "    </tr>\n",
       "    <tr>\n",
       "      <th>3</th>\n",
       "      <td>40.30467</td>\n",
       "      <td>53.845657</td>\n",
       "      <td>0.0</td>\n",
       "      <td>401.0</td>\n",
       "      <td>15.0</td>\n",
       "      <td>15.52416</td>\n",
       "      <td>32.44188</td>\n",
       "      <td>0.0</td>\n",
       "      <td>377.0</td>\n",
       "      <td>3.0</td>\n",
       "      <td>...</td>\n",
       "      <td>0.0</td>\n",
       "      <td>1.0</td>\n",
       "      <td>0.0</td>\n",
       "      <td>0.0</td>\n",
       "      <td>0.0</td>\n",
       "      <td>0.0</td>\n",
       "      <td>0.0</td>\n",
       "      <td>0.0</td>\n",
       "      <td>0.0</td>\n",
       "      <td>1.0</td>\n",
       "    </tr>\n",
       "    <tr>\n",
       "      <th>4</th>\n",
       "      <td>40.30467</td>\n",
       "      <td>53.845657</td>\n",
       "      <td>0.0</td>\n",
       "      <td>401.0</td>\n",
       "      <td>15.0</td>\n",
       "      <td>15.52416</td>\n",
       "      <td>32.44188</td>\n",
       "      <td>0.0</td>\n",
       "      <td>377.0</td>\n",
       "      <td>3.0</td>\n",
       "      <td>...</td>\n",
       "      <td>0.0</td>\n",
       "      <td>1.0</td>\n",
       "      <td>0.0</td>\n",
       "      <td>0.0</td>\n",
       "      <td>0.0</td>\n",
       "      <td>0.0</td>\n",
       "      <td>0.0</td>\n",
       "      <td>0.0</td>\n",
       "      <td>0.0</td>\n",
       "      <td>27.0</td>\n",
       "    </tr>\n",
       "  </tbody>\n",
       "</table>\n",
       "<p>5 rows × 281 columns</p>\n",
       "</div>"
      ],
      "text/plain": [
       "        0          1    2      3     4         5         6    7      8    9    \\\n",
       "0  40.30467  53.845657  0.0  401.0  15.0  15.52416  32.44188  0.0  377.0  3.0   \n",
       "1  40.30467  53.845657  0.0  401.0  15.0  15.52416  32.44188  0.0  377.0  3.0   \n",
       "2  40.30467  53.845657  0.0  401.0  15.0  15.52416  32.44188  0.0  377.0  3.0   \n",
       "3  40.30467  53.845657  0.0  401.0  15.0  15.52416  32.44188  0.0  377.0  3.0   \n",
       "4  40.30467  53.845657  0.0  401.0  15.0  15.52416  32.44188  0.0  377.0  3.0   \n",
       "\n",
       "   ...  271  272  273  274  275  276  277  278  279   280  \n",
       "0  ...  0.0  1.0  0.0  0.0  0.0  0.0  0.0  0.0  0.0   1.0  \n",
       "1  ...  1.0  0.0  0.0  0.0  0.0  0.0  0.0  0.0  0.0   0.0  \n",
       "2  ...  1.0  0.0  0.0  0.0  0.0  0.0  0.0  0.0  0.0   0.0  \n",
       "3  ...  0.0  1.0  0.0  0.0  0.0  0.0  0.0  0.0  0.0   1.0  \n",
       "4  ...  0.0  1.0  0.0  0.0  0.0  0.0  0.0  0.0  0.0  27.0  \n",
       "\n",
       "[5 rows x 281 columns]"
      ]
     },
     "execution_count": 21,
     "metadata": {},
     "output_type": "execute_result"
    }
   ],
   "source": [
    "df_train.head()"
   ]
  },
  {
   "cell_type": "code",
   "execution_count": 100,
   "metadata": {},
   "outputs": [
    {
     "data": {
      "text/plain": [
       "0.0      33559\n",
       "1.0       5775\n",
       "2.0       2820\n",
       "3.0       1654\n",
       "4.0       1120\n",
       "         ...  \n",
       "344.0        1\n",
       "324.0        1\n",
       "370.0        1\n",
       "733.0        1\n",
       "263.0        1\n",
       "Name: 280, Length: 438, dtype: int64"
      ]
     },
     "execution_count": 100,
     "metadata": {},
     "output_type": "execute_result"
    }
   ],
   "source": [
    "df_train[280].value_counts()"
   ]
  },
  {
   "cell_type": "code",
   "execution_count": 14,
   "metadata": {},
   "outputs": [
    {
     "data": {
      "text/plain": [
       "<matplotlib.axes._subplots.AxesSubplot at 0x1c0bd249b00>"
      ]
     },
     "execution_count": 14,
     "metadata": {},
     "output_type": "execute_result"
    },
    {
     "data": {
      "image/png": "[encoded data removed]",
      "text/plain": [
       "<Figure size 432x288 with 1 Axes>"
      ]
     },
     "metadata": {
      "needs_background": "light"
     },
     "output_type": "display_data"
    }
   ],
   "source": [
    "df_train[280].plot.hist()"
   ]
  },
  {
   "cell_type": "code",
   "execution_count": 22,
   "metadata": {},
   "outputs": [
    {
     "data": {
      "text/html": [
       "<div>\n",
       "<style scoped>\n",
       "    .dataframe tbody tr th:only-of-type {\n",
       "        vertical-align: middle;\n",
       "    }\n",
       "\n",
       "    .dataframe tbody tr th {\n",
       "        vertical-align: top;\n",
       "    }\n",
       "\n",
       "    .dataframe thead th {\n",
       "        text-align: right;\n",
       "    }\n",
       "</style>\n",
       "<table border=\"1\" class=\"dataframe\">\n",
       "  <thead>\n",
       "    <tr style=\"text-align: right;\">\n",
       "      <th></th>\n",
       "      <th>Unnamed: 0</th>\n",
       "      <th>0</th>\n",
       "      <th>1</th>\n",
       "      <th>2</th>\n",
       "      <th>3</th>\n",
       "      <th>4</th>\n",
       "      <th>5</th>\n",
       "      <th>6</th>\n",
       "      <th>7</th>\n",
       "      <th>8</th>\n",
       "      <th>...</th>\n",
       "      <th>271</th>\n",
       "      <th>272</th>\n",
       "      <th>273</th>\n",
       "      <th>274</th>\n",
       "      <th>275</th>\n",
       "      <th>276</th>\n",
       "      <th>277</th>\n",
       "      <th>278</th>\n",
       "      <th>279</th>\n",
       "      <th>280</th>\n",
       "    </tr>\n",
       "  </thead>\n",
       "  <tbody>\n",
       "    <tr>\n",
       "      <th>0</th>\n",
       "      <td>0</td>\n",
       "      <td>10.630660</td>\n",
       "      <td>17.882992</td>\n",
       "      <td>1.0</td>\n",
       "      <td>259.0</td>\n",
       "      <td>5.0</td>\n",
       "      <td>4.018276</td>\n",
       "      <td>10.396790</td>\n",
       "      <td>0.0</td>\n",
       "      <td>235.0</td>\n",
       "      <td>...</td>\n",
       "      <td>0.0</td>\n",
       "      <td>0.0</td>\n",
       "      <td>0.0</td>\n",
       "      <td>0.0</td>\n",
       "      <td>0.0</td>\n",
       "      <td>0.0</td>\n",
       "      <td>0.0</td>\n",
       "      <td>0.0</td>\n",
       "      <td>0.0</td>\n",
       "      <td>4.0</td>\n",
       "    </tr>\n",
       "    <tr>\n",
       "      <th>1</th>\n",
       "      <td>1</td>\n",
       "      <td>43.435825</td>\n",
       "      <td>75.590485</td>\n",
       "      <td>0.0</td>\n",
       "      <td>634.0</td>\n",
       "      <td>20.0</td>\n",
       "      <td>15.998589</td>\n",
       "      <td>44.560870</td>\n",
       "      <td>0.0</td>\n",
       "      <td>473.0</td>\n",
       "      <td>...</td>\n",
       "      <td>0.0</td>\n",
       "      <td>0.0</td>\n",
       "      <td>0.0</td>\n",
       "      <td>0.0</td>\n",
       "      <td>1.0</td>\n",
       "      <td>0.0</td>\n",
       "      <td>0.0</td>\n",
       "      <td>0.0</td>\n",
       "      <td>0.0</td>\n",
       "      <td>0.0</td>\n",
       "    </tr>\n",
       "    <tr>\n",
       "      <th>2</th>\n",
       "      <td>2</td>\n",
       "      <td>1.733333</td>\n",
       "      <td>3.043390</td>\n",
       "      <td>0.0</td>\n",
       "      <td>9.0</td>\n",
       "      <td>0.0</td>\n",
       "      <td>0.733333</td>\n",
       "      <td>1.526070</td>\n",
       "      <td>0.0</td>\n",
       "      <td>5.0</td>\n",
       "      <td>...</td>\n",
       "      <td>0.0</td>\n",
       "      <td>0.0</td>\n",
       "      <td>0.0</td>\n",
       "      <td>0.0</td>\n",
       "      <td>0.0</td>\n",
       "      <td>0.0</td>\n",
       "      <td>0.0</td>\n",
       "      <td>0.0</td>\n",
       "      <td>0.0</td>\n",
       "      <td>1.0</td>\n",
       "    </tr>\n",
       "    <tr>\n",
       "      <th>3</th>\n",
       "      <td>3</td>\n",
       "      <td>27.230215</td>\n",
       "      <td>45.970950</td>\n",
       "      <td>0.0</td>\n",
       "      <td>371.0</td>\n",
       "      <td>14.0</td>\n",
       "      <td>10.784173</td>\n",
       "      <td>24.209942</td>\n",
       "      <td>0.0</td>\n",
       "      <td>228.0</td>\n",
       "      <td>...</td>\n",
       "      <td>0.0</td>\n",
       "      <td>0.0</td>\n",
       "      <td>0.0</td>\n",
       "      <td>0.0</td>\n",
       "      <td>0.0</td>\n",
       "      <td>0.0</td>\n",
       "      <td>0.0</td>\n",
       "      <td>0.0</td>\n",
       "      <td>0.0</td>\n",
       "      <td>5.0</td>\n",
       "    </tr>\n",
       "    <tr>\n",
       "      <th>4</th>\n",
       "      <td>4</td>\n",
       "      <td>4.500000</td>\n",
       "      <td>6.677075</td>\n",
       "      <td>0.0</td>\n",
       "      <td>18.0</td>\n",
       "      <td>0.5</td>\n",
       "      <td>3.000000</td>\n",
       "      <td>4.000000</td>\n",
       "      <td>0.0</td>\n",
       "      <td>10.0</td>\n",
       "      <td>...</td>\n",
       "      <td>0.0</td>\n",
       "      <td>0.0</td>\n",
       "      <td>0.0</td>\n",
       "      <td>0.0</td>\n",
       "      <td>0.0</td>\n",
       "      <td>0.0</td>\n",
       "      <td>0.0</td>\n",
       "      <td>0.0</td>\n",
       "      <td>0.0</td>\n",
       "      <td>0.0</td>\n",
       "    </tr>\n",
       "  </tbody>\n",
       "</table>\n",
       "<p>5 rows × 282 columns</p>\n",
       "</div>"
      ],
      "text/plain": [
       "   Unnamed: 0          0          1    2      3     4          5          6  \\\n",
       "0           0  10.630660  17.882992  1.0  259.0   5.0   4.018276  10.396790   \n",
       "1           1  43.435825  75.590485  0.0  634.0  20.0  15.998589  44.560870   \n",
       "2           2   1.733333   3.043390  0.0    9.0   0.0   0.733333   1.526070   \n",
       "3           3  27.230215  45.970950  0.0  371.0  14.0  10.784173  24.209942   \n",
       "4           4   4.500000   6.677075  0.0   18.0   0.5   3.000000   4.000000   \n",
       "\n",
       "     7      8  ...  271  272  273  274  275  276  277  278  279  280  \n",
       "0  0.0  235.0  ...  0.0  0.0  0.0  0.0  0.0  0.0  0.0  0.0  0.0  4.0  \n",
       "1  0.0  473.0  ...  0.0  0.0  0.0  0.0  1.0  0.0  0.0  0.0  0.0  0.0  \n",
       "2  0.0    5.0  ...  0.0  0.0  0.0  0.0  0.0  0.0  0.0  0.0  0.0  1.0  \n",
       "3  0.0  228.0  ...  0.0  0.0  0.0  0.0  0.0  0.0  0.0  0.0  0.0  5.0  \n",
       "4  0.0   10.0  ...  0.0  0.0  0.0  0.0  0.0  0.0  0.0  0.0  0.0  0.0  \n",
       "\n",
       "[5 rows x 282 columns]"
      ]
     },
     "execution_count": 22,
     "metadata": {},
     "output_type": "execute_result"
    }
   ],
   "source": [
    "df_test=pd.read_csv('blogData_test.csv')\n",
    "df_test.head()"
   ]
  },
  {
   "cell_type": "code",
   "execution_count": 24,
   "metadata": {},
   "outputs": [
    {
     "data": {
      "text/plain": [
       "0.0      5351\n",
       "1.0       673\n",
       "2.0       325\n",
       "3.0       217\n",
       "4.0       146\n",
       "         ... \n",
       "70.0        1\n",
       "37.0        1\n",
       "136.0       1\n",
       "304.0       1\n",
       "428.0       1\n",
       "Name: 280, Length: 171, dtype: int64"
      ]
     },
     "execution_count": 24,
     "metadata": {},
     "output_type": "execute_result"
    }
   ],
   "source": [
    "df_test['280'].value_counts()"
   ]
  },
  {
   "cell_type": "code",
   "execution_count": 6,
   "metadata": {},
   "outputs": [
    {
     "data": {
      "text/plain": [
       "<Figure size 720x576 with 0 Axes>"
      ]
     },
     "execution_count": 6,
     "metadata": {},
     "output_type": "execute_result"
    },
    {
     "data": {
      "text/plain": [
       "<matplotlib.axes._subplots.AxesSubplot at 0x1dc9d064a90>"
      ]
     },
     "execution_count": 6,
     "metadata": {},
     "output_type": "execute_result"
    },
    {
     "data": {
      "text/plain": [
       "<matplotlib.axes._subplots.AxesSubplot at 0x1dc9d064a90>"
      ]
     },
     "execution_count": 6,
     "metadata": {},
     "output_type": "execute_result"
    },
    {
     "data": {
      "text/plain": [
       "<matplotlib.axes._subplots.AxesSubplot at 0x1dc9cf0a128>"
      ]
     },
     "execution_count": 6,
     "metadata": {},
     "output_type": "execute_result"
    },
    {
     "data": {
      "text/plain": [
       "<matplotlib.axes._subplots.AxesSubplot at 0x1dc9cf0a128>"
      ]
     },
     "execution_count": 6,
     "metadata": {},
     "output_type": "execute_result"
    },
    {
     "data": {
      "image/png": "[encoded data removed]",
      "text/plain": [
       "<Figure size 720x576 with 2 Axes>"
      ]
     },
     "metadata": {
      "needs_background": "light"
     },
     "output_type": "display_data"
    }
   ],
   "source": [
    "## Check for null values\n",
    "plt.subplot(121)\n",
    "sns.heatmap(df_train.isnull(),yticklabels=False,cbar=False,cmap='viridis')\n",
    "\n",
    "plt.subplot(122)\n",
    "sns.heatmap(df_test.isnull(),yticklabels=False,cbar=False,cmap='viridis')\n",
    "\n",
    "plt.show()"
   ]
  },
  {
   "cell_type": "code",
   "execution_count": 26,
   "metadata": {},
   "outputs": [],
   "source": [
    "df_test.drop(columns = 'Unnamed: 0',axis = 1,inplace = True)"
   ]
  },
  {
   "cell_type": "code",
   "execution_count": 27,
   "metadata": {},
   "outputs": [
    {
     "name": "stdout",
     "output_type": "stream",
     "text": [
      "shape of train data:  (52397, 281)\n",
      "shape of test data:  (7624, 281)\n"
     ]
    }
   ],
   "source": [
    "print('shape of train data: ',df_train.shape)\n",
    "print('shape of test data: ',df_test.shape)"
   ]
  },
  {
   "cell_type": "code",
   "execution_count": 28,
   "metadata": {},
   "outputs": [
    {
     "data": {
      "text/html": [
       "<div>\n",
       "<style scoped>\n",
       "    .dataframe tbody tr th:only-of-type {\n",
       "        vertical-align: middle;\n",
       "    }\n",
       "\n",
       "    .dataframe tbody tr th {\n",
       "        vertical-align: top;\n",
       "    }\n",
       "\n",
       "    .dataframe thead th {\n",
       "        text-align: right;\n",
       "    }\n",
       "</style>\n",
       "<table border=\"1\" class=\"dataframe\">\n",
       "  <thead>\n",
       "    <tr style=\"text-align: right;\">\n",
       "      <th></th>\n",
       "      <th>0</th>\n",
       "      <th>1</th>\n",
       "      <th>2</th>\n",
       "      <th>3</th>\n",
       "      <th>4</th>\n",
       "      <th>5</th>\n",
       "      <th>6</th>\n",
       "      <th>7</th>\n",
       "      <th>8</th>\n",
       "      <th>9</th>\n",
       "      <th>...</th>\n",
       "      <th>271</th>\n",
       "      <th>272</th>\n",
       "      <th>273</th>\n",
       "      <th>274</th>\n",
       "      <th>275</th>\n",
       "      <th>276</th>\n",
       "      <th>277</th>\n",
       "      <th>278</th>\n",
       "      <th>279</th>\n",
       "      <th>280</th>\n",
       "    </tr>\n",
       "  </thead>\n",
       "  <tbody>\n",
       "    <tr>\n",
       "      <th>count</th>\n",
       "      <td>52397.000000</td>\n",
       "      <td>52397.000000</td>\n",
       "      <td>52397.000000</td>\n",
       "      <td>52397.000000</td>\n",
       "      <td>52397.000000</td>\n",
       "      <td>52397.000000</td>\n",
       "      <td>52397.000000</td>\n",
       "      <td>52397.000000</td>\n",
       "      <td>52397.000000</td>\n",
       "      <td>52397.000000</td>\n",
       "      <td>...</td>\n",
       "      <td>52397.000000</td>\n",
       "      <td>52397.000000</td>\n",
       "      <td>52397.000000</td>\n",
       "      <td>52397.000000</td>\n",
       "      <td>52397.000000</td>\n",
       "      <td>52397.000000</td>\n",
       "      <td>52397.0</td>\n",
       "      <td>52397.000000</td>\n",
       "      <td>52397.000000</td>\n",
       "      <td>52397.000000</td>\n",
       "    </tr>\n",
       "    <tr>\n",
       "      <th>mean</th>\n",
       "      <td>39.444167</td>\n",
       "      <td>46.806717</td>\n",
       "      <td>0.358914</td>\n",
       "      <td>339.853102</td>\n",
       "      <td>24.681661</td>\n",
       "      <td>15.214611</td>\n",
       "      <td>27.959159</td>\n",
       "      <td>0.002748</td>\n",
       "      <td>258.666030</td>\n",
       "      <td>5.829151</td>\n",
       "      <td>...</td>\n",
       "      <td>0.171327</td>\n",
       "      <td>0.162242</td>\n",
       "      <td>0.154455</td>\n",
       "      <td>0.096151</td>\n",
       "      <td>0.088917</td>\n",
       "      <td>0.119167</td>\n",
       "      <td>0.0</td>\n",
       "      <td>1.242094</td>\n",
       "      <td>0.769505</td>\n",
       "      <td>6.764719</td>\n",
       "    </tr>\n",
       "    <tr>\n",
       "      <th>std</th>\n",
       "      <td>79.121821</td>\n",
       "      <td>62.359996</td>\n",
       "      <td>6.840717</td>\n",
       "      <td>441.430109</td>\n",
       "      <td>69.598976</td>\n",
       "      <td>32.251189</td>\n",
       "      <td>38.584013</td>\n",
       "      <td>0.131903</td>\n",
       "      <td>321.348052</td>\n",
       "      <td>23.768317</td>\n",
       "      <td>...</td>\n",
       "      <td>0.376798</td>\n",
       "      <td>0.368676</td>\n",
       "      <td>0.361388</td>\n",
       "      <td>0.294800</td>\n",
       "      <td>0.284627</td>\n",
       "      <td>1.438194</td>\n",
       "      <td>0.0</td>\n",
       "      <td>27.497979</td>\n",
       "      <td>20.338052</td>\n",
       "      <td>37.706565</td>\n",
       "    </tr>\n",
       "    <tr>\n",
       "      <th>min</th>\n",
       "      <td>0.000000</td>\n",
       "      <td>0.000000</td>\n",
       "      <td>0.000000</td>\n",
       "      <td>0.000000</td>\n",
       "      <td>0.000000</td>\n",
       "      <td>0.000000</td>\n",
       "      <td>0.000000</td>\n",
       "      <td>0.000000</td>\n",
       "      <td>0.000000</td>\n",
       "      <td>0.000000</td>\n",
       "      <td>...</td>\n",
       "      <td>0.000000</td>\n",
       "      <td>0.000000</td>\n",
       "      <td>0.000000</td>\n",
       "      <td>0.000000</td>\n",
       "      <td>0.000000</td>\n",
       "      <td>0.000000</td>\n",
       "      <td>0.0</td>\n",
       "      <td>0.000000</td>\n",
       "      <td>0.000000</td>\n",
       "      <td>0.000000</td>\n",
       "    </tr>\n",
       "    <tr>\n",
       "      <th>25%</th>\n",
       "      <td>2.285714</td>\n",
       "      <td>5.214318</td>\n",
       "      <td>0.000000</td>\n",
       "      <td>29.000000</td>\n",
       "      <td>0.000000</td>\n",
       "      <td>0.891566</td>\n",
       "      <td>3.075076</td>\n",
       "      <td>0.000000</td>\n",
       "      <td>22.000000</td>\n",
       "      <td>0.000000</td>\n",
       "      <td>...</td>\n",
       "      <td>0.000000</td>\n",
       "      <td>0.000000</td>\n",
       "      <td>0.000000</td>\n",
       "      <td>0.000000</td>\n",
       "      <td>0.000000</td>\n",
       "      <td>0.000000</td>\n",
       "      <td>0.0</td>\n",
       "      <td>0.000000</td>\n",
       "      <td>0.000000</td>\n",
       "      <td>0.000000</td>\n",
       "    </tr>\n",
       "    <tr>\n",
       "      <th>50%</th>\n",
       "      <td>10.630660</td>\n",
       "      <td>19.353120</td>\n",
       "      <td>0.000000</td>\n",
       "      <td>162.000000</td>\n",
       "      <td>4.000000</td>\n",
       "      <td>4.150685</td>\n",
       "      <td>11.051215</td>\n",
       "      <td>0.000000</td>\n",
       "      <td>121.000000</td>\n",
       "      <td>1.000000</td>\n",
       "      <td>...</td>\n",
       "      <td>0.000000</td>\n",
       "      <td>0.000000</td>\n",
       "      <td>0.000000</td>\n",
       "      <td>0.000000</td>\n",
       "      <td>0.000000</td>\n",
       "      <td>0.000000</td>\n",
       "      <td>0.0</td>\n",
       "      <td>0.000000</td>\n",
       "      <td>0.000000</td>\n",
       "      <td>0.000000</td>\n",
       "    </tr>\n",
       "    <tr>\n",
       "      <th>75%</th>\n",
       "      <td>40.304670</td>\n",
       "      <td>77.442830</td>\n",
       "      <td>0.000000</td>\n",
       "      <td>478.000000</td>\n",
       "      <td>15.000000</td>\n",
       "      <td>15.998589</td>\n",
       "      <td>45.701206</td>\n",
       "      <td>0.000000</td>\n",
       "      <td>387.000000</td>\n",
       "      <td>2.000000</td>\n",
       "      <td>...</td>\n",
       "      <td>0.000000</td>\n",
       "      <td>0.000000</td>\n",
       "      <td>0.000000</td>\n",
       "      <td>0.000000</td>\n",
       "      <td>0.000000</td>\n",
       "      <td>0.000000</td>\n",
       "      <td>0.0</td>\n",
       "      <td>0.000000</td>\n",
       "      <td>0.000000</td>\n",
       "      <td>1.000000</td>\n",
       "    </tr>\n",
       "    <tr>\n",
       "      <th>max</th>\n",
       "      <td>1122.666600</td>\n",
       "      <td>559.432600</td>\n",
       "      <td>726.000000</td>\n",
       "      <td>2044.000000</td>\n",
       "      <td>1314.000000</td>\n",
       "      <td>442.666660</td>\n",
       "      <td>359.530060</td>\n",
       "      <td>14.000000</td>\n",
       "      <td>1424.000000</td>\n",
       "      <td>588.000000</td>\n",
       "      <td>...</td>\n",
       "      <td>1.000000</td>\n",
       "      <td>1.000000</td>\n",
       "      <td>1.000000</td>\n",
       "      <td>1.000000</td>\n",
       "      <td>1.000000</td>\n",
       "      <td>136.000000</td>\n",
       "      <td>0.0</td>\n",
       "      <td>1778.000000</td>\n",
       "      <td>1778.000000</td>\n",
       "      <td>1424.000000</td>\n",
       "    </tr>\n",
       "  </tbody>\n",
       "</table>\n",
       "<p>8 rows × 281 columns</p>\n",
       "</div>"
      ],
      "text/plain": [
       "                0             1             2             3             4    \\\n",
       "count  52397.000000  52397.000000  52397.000000  52397.000000  52397.000000   \n",
       "mean      39.444167     46.806717      0.358914    339.853102     24.681661   \n",
       "std       79.121821     62.359996      6.840717    441.430109     69.598976   \n",
       "min        0.000000      0.000000      0.000000      0.000000      0.000000   \n",
       "25%        2.285714      5.214318      0.000000     29.000000      0.000000   \n",
       "50%       10.630660     19.353120      0.000000    162.000000      4.000000   \n",
       "75%       40.304670     77.442830      0.000000    478.000000     15.000000   \n",
       "max     1122.666600    559.432600    726.000000   2044.000000   1314.000000   \n",
       "\n",
       "                5             6             7             8             9    \\\n",
       "count  52397.000000  52397.000000  52397.000000  52397.000000  52397.000000   \n",
       "mean      15.214611     27.959159      0.002748    258.666030      5.829151   \n",
       "std       32.251189     38.584013      0.131903    321.348052     23.768317   \n",
       "min        0.000000      0.000000      0.000000      0.000000      0.000000   \n",
       "25%        0.891566      3.075076      0.000000     22.000000      0.000000   \n",
       "50%        4.150685     11.051215      0.000000    121.000000      1.000000   \n",
       "75%       15.998589     45.701206      0.000000    387.000000      2.000000   \n",
       "max      442.666660    359.530060     14.000000   1424.000000    588.000000   \n",
       "\n",
       "       ...           271           272           273           274  \\\n",
       "count  ...  52397.000000  52397.000000  52397.000000  52397.000000   \n",
       "mean   ...      0.171327      0.162242      0.154455      0.096151   \n",
       "std    ...      0.376798      0.368676      0.361388      0.294800   \n",
       "min    ...      0.000000      0.000000      0.000000      0.000000   \n",
       "25%    ...      0.000000      0.000000      0.000000      0.000000   \n",
       "50%    ...      0.000000      0.000000      0.000000      0.000000   \n",
       "75%    ...      0.000000      0.000000      0.000000      0.000000   \n",
       "max    ...      1.000000      1.000000      1.000000      1.000000   \n",
       "\n",
       "                275           276      277           278           279  \\\n",
       "count  52397.000000  52397.000000  52397.0  52397.000000  52397.000000   \n",
       "mean       0.088917      0.119167      0.0      1.242094      0.769505   \n",
       "std        0.284627      1.438194      0.0     27.497979     20.338052   \n",
       "min        0.000000      0.000000      0.0      0.000000      0.000000   \n",
       "25%        0.000000      0.000000      0.0      0.000000      0.000000   \n",
       "50%        0.000000      0.000000      0.0      0.000000      0.000000   \n",
       "75%        0.000000      0.000000      0.0      0.000000      0.000000   \n",
       "max        1.000000    136.000000      0.0   1778.000000   1778.000000   \n",
       "\n",
       "                280  \n",
       "count  52397.000000  \n",
       "mean       6.764719  \n",
       "std       37.706565  \n",
       "min        0.000000  \n",
       "25%        0.000000  \n",
       "50%        0.000000  \n",
       "75%        1.000000  \n",
       "max     1424.000000  \n",
       "\n",
       "[8 rows x 281 columns]"
      ]
     },
     "execution_count": 28,
     "metadata": {},
     "output_type": "execute_result"
    }
   ],
   "source": [
    "df_train.describe()"
   ]
  },
  {
   "cell_type": "code",
   "execution_count": 29,
   "metadata": {},
   "outputs": [
    {
     "data": {
      "text/html": [
       "<div>\n",
       "<style scoped>\n",
       "    .dataframe tbody tr th:only-of-type {\n",
       "        vertical-align: middle;\n",
       "    }\n",
       "\n",
       "    .dataframe tbody tr th {\n",
       "        vertical-align: top;\n",
       "    }\n",
       "\n",
       "    .dataframe thead th {\n",
       "        text-align: right;\n",
       "    }\n",
       "</style>\n",
       "<table border=\"1\" class=\"dataframe\">\n",
       "  <thead>\n",
       "    <tr style=\"text-align: right;\">\n",
       "      <th></th>\n",
       "      <th>0</th>\n",
       "      <th>1</th>\n",
       "      <th>2</th>\n",
       "      <th>3</th>\n",
       "      <th>4</th>\n",
       "      <th>5</th>\n",
       "      <th>6</th>\n",
       "      <th>7</th>\n",
       "      <th>8</th>\n",
       "      <th>9</th>\n",
       "      <th>...</th>\n",
       "      <th>271</th>\n",
       "      <th>272</th>\n",
       "      <th>273</th>\n",
       "      <th>274</th>\n",
       "      <th>275</th>\n",
       "      <th>276</th>\n",
       "      <th>277</th>\n",
       "      <th>278</th>\n",
       "      <th>279</th>\n",
       "      <th>280</th>\n",
       "    </tr>\n",
       "  </thead>\n",
       "  <tbody>\n",
       "    <tr>\n",
       "      <th>count</th>\n",
       "      <td>7624.000000</td>\n",
       "      <td>7624.000000</td>\n",
       "      <td>7624.000000</td>\n",
       "      <td>7624.000000</td>\n",
       "      <td>7624.000000</td>\n",
       "      <td>7624.000000</td>\n",
       "      <td>7624.000000</td>\n",
       "      <td>7624.000000</td>\n",
       "      <td>7624.000000</td>\n",
       "      <td>7624.000000</td>\n",
       "      <td>...</td>\n",
       "      <td>7624.000000</td>\n",
       "      <td>7624.000000</td>\n",
       "      <td>7624.000000</td>\n",
       "      <td>7624.000000</td>\n",
       "      <td>7624.000000</td>\n",
       "      <td>7624.000000</td>\n",
       "      <td>7624.0</td>\n",
       "      <td>7624.000000</td>\n",
       "      <td>7624.000000</td>\n",
       "      <td>7624.000000</td>\n",
       "    </tr>\n",
       "    <tr>\n",
       "      <th>mean</th>\n",
       "      <td>32.495363</td>\n",
       "      <td>37.630978</td>\n",
       "      <td>2.933631</td>\n",
       "      <td>268.762067</td>\n",
       "      <td>20.979407</td>\n",
       "      <td>12.542118</td>\n",
       "      <td>23.615513</td>\n",
       "      <td>0.065320</td>\n",
       "      <td>210.212225</td>\n",
       "      <td>4.590307</td>\n",
       "      <td>...</td>\n",
       "      <td>0.166710</td>\n",
       "      <td>0.156873</td>\n",
       "      <td>0.139953</td>\n",
       "      <td>0.083027</td>\n",
       "      <td>0.089586</td>\n",
       "      <td>0.112671</td>\n",
       "      <td>0.0</td>\n",
       "      <td>0.618966</td>\n",
       "      <td>0.375349</td>\n",
       "      <td>5.343258</td>\n",
       "    </tr>\n",
       "    <tr>\n",
       "      <th>std</th>\n",
       "      <td>76.228518</td>\n",
       "      <td>54.062449</td>\n",
       "      <td>33.260531</td>\n",
       "      <td>390.377881</td>\n",
       "      <td>75.517116</td>\n",
       "      <td>30.262826</td>\n",
       "      <td>35.644205</td>\n",
       "      <td>0.746277</td>\n",
       "      <td>295.189598</td>\n",
       "      <td>28.256707</td>\n",
       "      <td>...</td>\n",
       "      <td>0.372742</td>\n",
       "      <td>0.363705</td>\n",
       "      <td>0.346961</td>\n",
       "      <td>0.275942</td>\n",
       "      <td>0.285606</td>\n",
       "      <td>0.977526</td>\n",
       "      <td>0.0</td>\n",
       "      <td>15.060193</td>\n",
       "      <td>12.658993</td>\n",
       "      <td>30.501890</td>\n",
       "    </tr>\n",
       "    <tr>\n",
       "      <th>min</th>\n",
       "      <td>0.000000</td>\n",
       "      <td>0.000000</td>\n",
       "      <td>0.000000</td>\n",
       "      <td>0.000000</td>\n",
       "      <td>0.000000</td>\n",
       "      <td>0.000000</td>\n",
       "      <td>0.000000</td>\n",
       "      <td>0.000000</td>\n",
       "      <td>0.000000</td>\n",
       "      <td>0.000000</td>\n",
       "      <td>...</td>\n",
       "      <td>0.000000</td>\n",
       "      <td>0.000000</td>\n",
       "      <td>0.000000</td>\n",
       "      <td>0.000000</td>\n",
       "      <td>0.000000</td>\n",
       "      <td>0.000000</td>\n",
       "      <td>0.0</td>\n",
       "      <td>0.000000</td>\n",
       "      <td>0.000000</td>\n",
       "      <td>0.000000</td>\n",
       "    </tr>\n",
       "    <tr>\n",
       "      <th>25%</th>\n",
       "      <td>0.260870</td>\n",
       "      <td>0.668326</td>\n",
       "      <td>0.000000</td>\n",
       "      <td>3.000000</td>\n",
       "      <td>0.000000</td>\n",
       "      <td>0.101351</td>\n",
       "      <td>0.411378</td>\n",
       "      <td>0.000000</td>\n",
       "      <td>2.000000</td>\n",
       "      <td>0.000000</td>\n",
       "      <td>...</td>\n",
       "      <td>0.000000</td>\n",
       "      <td>0.000000</td>\n",
       "      <td>0.000000</td>\n",
       "      <td>0.000000</td>\n",
       "      <td>0.000000</td>\n",
       "      <td>0.000000</td>\n",
       "      <td>0.0</td>\n",
       "      <td>0.000000</td>\n",
       "      <td>0.000000</td>\n",
       "      <td>0.000000</td>\n",
       "    </tr>\n",
       "    <tr>\n",
       "      <th>50%</th>\n",
       "      <td>9.080925</td>\n",
       "      <td>11.228800</td>\n",
       "      <td>0.000000</td>\n",
       "      <td>97.000000</td>\n",
       "      <td>2.000000</td>\n",
       "      <td>3.490054</td>\n",
       "      <td>7.177945</td>\n",
       "      <td>0.000000</td>\n",
       "      <td>86.500000</td>\n",
       "      <td>0.000000</td>\n",
       "      <td>...</td>\n",
       "      <td>0.000000</td>\n",
       "      <td>0.000000</td>\n",
       "      <td>0.000000</td>\n",
       "      <td>0.000000</td>\n",
       "      <td>0.000000</td>\n",
       "      <td>0.000000</td>\n",
       "      <td>0.0</td>\n",
       "      <td>0.000000</td>\n",
       "      <td>0.000000</td>\n",
       "      <td>0.000000</td>\n",
       "    </tr>\n",
       "    <tr>\n",
       "      <th>75%</th>\n",
       "      <td>39.644764</td>\n",
       "      <td>68.084305</td>\n",
       "      <td>0.000000</td>\n",
       "      <td>401.000000</td>\n",
       "      <td>14.000000</td>\n",
       "      <td>15.524160</td>\n",
       "      <td>44.316776</td>\n",
       "      <td>0.000000</td>\n",
       "      <td>357.000000</td>\n",
       "      <td>2.000000</td>\n",
       "      <td>...</td>\n",
       "      <td>0.000000</td>\n",
       "      <td>0.000000</td>\n",
       "      <td>0.000000</td>\n",
       "      <td>0.000000</td>\n",
       "      <td>0.000000</td>\n",
       "      <td>0.000000</td>\n",
       "      <td>0.0</td>\n",
       "      <td>0.000000</td>\n",
       "      <td>0.000000</td>\n",
       "      <td>1.000000</td>\n",
       "    </tr>\n",
       "    <tr>\n",
       "      <th>max</th>\n",
       "      <td>1122.666600</td>\n",
       "      <td>474.112270</td>\n",
       "      <td>726.000000</td>\n",
       "      <td>2044.000000</td>\n",
       "      <td>1314.000000</td>\n",
       "      <td>442.666660</td>\n",
       "      <td>325.702270</td>\n",
       "      <td>14.000000</td>\n",
       "      <td>1424.000000</td>\n",
       "      <td>588.000000</td>\n",
       "      <td>...</td>\n",
       "      <td>1.000000</td>\n",
       "      <td>1.000000</td>\n",
       "      <td>1.000000</td>\n",
       "      <td>1.000000</td>\n",
       "      <td>1.000000</td>\n",
       "      <td>28.000000</td>\n",
       "      <td>0.0</td>\n",
       "      <td>926.000000</td>\n",
       "      <td>926.000000</td>\n",
       "      <td>657.000000</td>\n",
       "    </tr>\n",
       "  </tbody>\n",
       "</table>\n",
       "<p>8 rows × 281 columns</p>\n",
       "</div>"
      ],
      "text/plain": [
       "                 0            1            2            3            4  \\\n",
       "count  7624.000000  7624.000000  7624.000000  7624.000000  7624.000000   \n",
       "mean     32.495363    37.630978     2.933631   268.762067    20.979407   \n",
       "std      76.228518    54.062449    33.260531   390.377881    75.517116   \n",
       "min       0.000000     0.000000     0.000000     0.000000     0.000000   \n",
       "25%       0.260870     0.668326     0.000000     3.000000     0.000000   \n",
       "50%       9.080925    11.228800     0.000000    97.000000     2.000000   \n",
       "75%      39.644764    68.084305     0.000000   401.000000    14.000000   \n",
       "max    1122.666600   474.112270   726.000000  2044.000000  1314.000000   \n",
       "\n",
       "                 5            6            7            8            9  ...  \\\n",
       "count  7624.000000  7624.000000  7624.000000  7624.000000  7624.000000  ...   \n",
       "mean     12.542118    23.615513     0.065320   210.212225     4.590307  ...   \n",
       "std      30.262826    35.644205     0.746277   295.189598    28.256707  ...   \n",
       "min       0.000000     0.000000     0.000000     0.000000     0.000000  ...   \n",
       "25%       0.101351     0.411378     0.000000     2.000000     0.000000  ...   \n",
       "50%       3.490054     7.177945     0.000000    86.500000     0.000000  ...   \n",
       "75%      15.524160    44.316776     0.000000   357.000000     2.000000  ...   \n",
       "max     442.666660   325.702270    14.000000  1424.000000   588.000000  ...   \n",
       "\n",
       "               271          272          273          274          275  \\\n",
       "count  7624.000000  7624.000000  7624.000000  7624.000000  7624.000000   \n",
       "mean      0.166710     0.156873     0.139953     0.083027     0.089586   \n",
       "std       0.372742     0.363705     0.346961     0.275942     0.285606   \n",
       "min       0.000000     0.000000     0.000000     0.000000     0.000000   \n",
       "25%       0.000000     0.000000     0.000000     0.000000     0.000000   \n",
       "50%       0.000000     0.000000     0.000000     0.000000     0.000000   \n",
       "75%       0.000000     0.000000     0.000000     0.000000     0.000000   \n",
       "max       1.000000     1.000000     1.000000     1.000000     1.000000   \n",
       "\n",
       "               276     277          278          279          280  \n",
       "count  7624.000000  7624.0  7624.000000  7624.000000  7624.000000  \n",
       "mean      0.112671     0.0     0.618966     0.375349     5.343258  \n",
       "std       0.977526     0.0    15.060193    12.658993    30.501890  \n",
       "min       0.000000     0.0     0.000000     0.000000     0.000000  \n",
       "25%       0.000000     0.0     0.000000     0.000000     0.000000  \n",
       "50%       0.000000     0.0     0.000000     0.000000     0.000000  \n",
       "75%       0.000000     0.0     0.000000     0.000000     1.000000  \n",
       "max      28.000000     0.0   926.000000   926.000000   657.000000  \n",
       "\n",
       "[8 rows x 281 columns]"
      ]
     },
     "execution_count": 29,
     "metadata": {},
     "output_type": "execute_result"
    }
   ],
   "source": [
    "df_test.describe()"
   ]
  },
  {
   "cell_type": "code",
   "execution_count": 30,
   "metadata": {},
   "outputs": [],
   "source": [
    "df_train = df_train.dropna(how = 'any')\n",
    "df_test = df_test.dropna(how = 'any')"
   ]
  },
  {
   "cell_type": "code",
   "execution_count": 31,
   "metadata": {},
   "outputs": [
    {
     "name": "stdout",
     "output_type": "stream",
     "text": [
      "shape of train data:  (52397, 281)\n",
      "shape of test data:  (7624, 281)\n"
     ]
    }
   ],
   "source": [
    "print('shape of train data: ',df_train.shape)\n",
    "print('shape of test data: ',df_test.shape)"
   ]
  },
  {
   "cell_type": "code",
   "execution_count": null,
   "metadata": {},
   "outputs": [],
   "source": []
  },
  {
   "cell_type": "code",
   "execution_count": 32,
   "metadata": {},
   "outputs": [
    {
     "data": {
      "text/html": [
       "<div>\n",
       "<style scoped>\n",
       "    .dataframe tbody tr th:only-of-type {\n",
       "        vertical-align: middle;\n",
       "    }\n",
       "\n",
       "    .dataframe tbody tr th {\n",
       "        vertical-align: top;\n",
       "    }\n",
       "\n",
       "    .dataframe thead th {\n",
       "        text-align: right;\n",
       "    }\n",
       "</style>\n",
       "<table border=\"1\" class=\"dataframe\">\n",
       "  <thead>\n",
       "    <tr style=\"text-align: right;\">\n",
       "      <th></th>\n",
       "      <th>0</th>\n",
       "      <th>1</th>\n",
       "      <th>2</th>\n",
       "      <th>3</th>\n",
       "      <th>4</th>\n",
       "      <th>5</th>\n",
       "      <th>6</th>\n",
       "      <th>7</th>\n",
       "      <th>8</th>\n",
       "      <th>9</th>\n",
       "      <th>...</th>\n",
       "      <th>271</th>\n",
       "      <th>272</th>\n",
       "      <th>273</th>\n",
       "      <th>274</th>\n",
       "      <th>275</th>\n",
       "      <th>276</th>\n",
       "      <th>277</th>\n",
       "      <th>278</th>\n",
       "      <th>279</th>\n",
       "      <th>280</th>\n",
       "    </tr>\n",
       "  </thead>\n",
       "  <tbody>\n",
       "    <tr>\n",
       "      <th>0</th>\n",
       "      <td>1.000000</td>\n",
       "      <td>0.926063</td>\n",
       "      <td>0.153651</td>\n",
       "      <td>0.852126</td>\n",
       "      <td>0.973861</td>\n",
       "      <td>0.996860</td>\n",
       "      <td>0.941574</td>\n",
       "      <td>0.091091</td>\n",
       "      <td>0.795670</td>\n",
       "      <td>0.921001</td>\n",
       "      <td>...</td>\n",
       "      <td>0.005452</td>\n",
       "      <td>0.004375</td>\n",
       "      <td>0.004817</td>\n",
       "      <td>-0.029882</td>\n",
       "      <td>-0.028492</td>\n",
       "      <td>-0.027460</td>\n",
       "      <td>NaN</td>\n",
       "      <td>-0.017798</td>\n",
       "      <td>-0.014912</td>\n",
       "      <td>0.485464</td>\n",
       "    </tr>\n",
       "    <tr>\n",
       "      <th>1</th>\n",
       "      <td>0.926063</td>\n",
       "      <td>1.000000</td>\n",
       "      <td>0.062471</td>\n",
       "      <td>0.923558</td>\n",
       "      <td>0.826808</td>\n",
       "      <td>0.913370</td>\n",
       "      <td>0.991400</td>\n",
       "      <td>0.017353</td>\n",
       "      <td>0.876339</td>\n",
       "      <td>0.753083</td>\n",
       "      <td>...</td>\n",
       "      <td>0.011318</td>\n",
       "      <td>0.008135</td>\n",
       "      <td>0.006297</td>\n",
       "      <td>-0.026818</td>\n",
       "      <td>-0.039513</td>\n",
       "      <td>-0.023272</td>\n",
       "      <td>NaN</td>\n",
       "      <td>-0.019602</td>\n",
       "      <td>-0.017061</td>\n",
       "      <td>0.424616</td>\n",
       "    </tr>\n",
       "    <tr>\n",
       "      <th>2</th>\n",
       "      <td>0.153651</td>\n",
       "      <td>0.062471</td>\n",
       "      <td>1.000000</td>\n",
       "      <td>0.022318</td>\n",
       "      <td>0.182835</td>\n",
       "      <td>0.145746</td>\n",
       "      <td>0.101145</td>\n",
       "      <td>0.749392</td>\n",
       "      <td>0.015544</td>\n",
       "      <td>0.198764</td>\n",
       "      <td>...</td>\n",
       "      <td>-0.008345</td>\n",
       "      <td>0.023027</td>\n",
       "      <td>-0.001642</td>\n",
       "      <td>-0.008482</td>\n",
       "      <td>-0.000355</td>\n",
       "      <td>-0.003911</td>\n",
       "      <td>NaN</td>\n",
       "      <td>-0.002359</td>\n",
       "      <td>-0.001972</td>\n",
       "      <td>0.053221</td>\n",
       "    </tr>\n",
       "    <tr>\n",
       "      <th>3</th>\n",
       "      <td>0.852126</td>\n",
       "      <td>0.923558</td>\n",
       "      <td>0.022318</td>\n",
       "      <td>1.000000</td>\n",
       "      <td>0.765456</td>\n",
       "      <td>0.825913</td>\n",
       "      <td>0.913739</td>\n",
       "      <td>0.005770</td>\n",
       "      <td>0.959883</td>\n",
       "      <td>0.644830</td>\n",
       "      <td>...</td>\n",
       "      <td>0.010237</td>\n",
       "      <td>0.015410</td>\n",
       "      <td>0.006113</td>\n",
       "      <td>-0.035792</td>\n",
       "      <td>-0.050098</td>\n",
       "      <td>-0.025526</td>\n",
       "      <td>NaN</td>\n",
       "      <td>-0.019494</td>\n",
       "      <td>-0.016649</td>\n",
       "      <td>0.356604</td>\n",
       "    </tr>\n",
       "    <tr>\n",
       "      <th>4</th>\n",
       "      <td>0.973861</td>\n",
       "      <td>0.826808</td>\n",
       "      <td>0.182835</td>\n",
       "      <td>0.765456</td>\n",
       "      <td>1.000000</td>\n",
       "      <td>0.977636</td>\n",
       "      <td>0.854387</td>\n",
       "      <td>0.126099</td>\n",
       "      <td>0.704929</td>\n",
       "      <td>0.960397</td>\n",
       "      <td>...</td>\n",
       "      <td>0.000340</td>\n",
       "      <td>0.001888</td>\n",
       "      <td>0.003018</td>\n",
       "      <td>-0.027985</td>\n",
       "      <td>-0.017726</td>\n",
       "      <td>-0.025281</td>\n",
       "      <td>NaN</td>\n",
       "      <td>-0.014899</td>\n",
       "      <td>-0.012329</td>\n",
       "      <td>0.491707</td>\n",
       "    </tr>\n",
       "    <tr>\n",
       "      <th>...</th>\n",
       "      <td>...</td>\n",
       "      <td>...</td>\n",
       "      <td>...</td>\n",
       "      <td>...</td>\n",
       "      <td>...</td>\n",
       "      <td>...</td>\n",
       "      <td>...</td>\n",
       "      <td>...</td>\n",
       "      <td>...</td>\n",
       "      <td>...</td>\n",
       "      <td>...</td>\n",
       "      <td>...</td>\n",
       "      <td>...</td>\n",
       "      <td>...</td>\n",
       "      <td>...</td>\n",
       "      <td>...</td>\n",
       "      <td>...</td>\n",
       "      <td>...</td>\n",
       "      <td>...</td>\n",
       "      <td>...</td>\n",
       "      <td>...</td>\n",
       "    </tr>\n",
       "    <tr>\n",
       "      <th>276</th>\n",
       "      <td>-0.027460</td>\n",
       "      <td>-0.023272</td>\n",
       "      <td>-0.003911</td>\n",
       "      <td>-0.025526</td>\n",
       "      <td>-0.025281</td>\n",
       "      <td>-0.025921</td>\n",
       "      <td>-0.023688</td>\n",
       "      <td>-0.001425</td>\n",
       "      <td>-0.024884</td>\n",
       "      <td>-0.018783</td>\n",
       "      <td>...</td>\n",
       "      <td>-0.004324</td>\n",
       "      <td>-0.006229</td>\n",
       "      <td>-0.001337</td>\n",
       "      <td>0.001694</td>\n",
       "      <td>-0.004578</td>\n",
       "      <td>1.000000</td>\n",
       "      <td>NaN</td>\n",
       "      <td>0.099200</td>\n",
       "      <td>0.047204</td>\n",
       "      <td>-0.005661</td>\n",
       "    </tr>\n",
       "    <tr>\n",
       "      <th>277</th>\n",
       "      <td>NaN</td>\n",
       "      <td>NaN</td>\n",
       "      <td>NaN</td>\n",
       "      <td>NaN</td>\n",
       "      <td>NaN</td>\n",
       "      <td>NaN</td>\n",
       "      <td>NaN</td>\n",
       "      <td>NaN</td>\n",
       "      <td>NaN</td>\n",
       "      <td>NaN</td>\n",
       "      <td>...</td>\n",
       "      <td>NaN</td>\n",
       "      <td>NaN</td>\n",
       "      <td>NaN</td>\n",
       "      <td>NaN</td>\n",
       "      <td>NaN</td>\n",
       "      <td>NaN</td>\n",
       "      <td>NaN</td>\n",
       "      <td>NaN</td>\n",
       "      <td>NaN</td>\n",
       "      <td>NaN</td>\n",
       "    </tr>\n",
       "    <tr>\n",
       "      <th>278</th>\n",
       "      <td>-0.017798</td>\n",
       "      <td>-0.019602</td>\n",
       "      <td>-0.002359</td>\n",
       "      <td>-0.019494</td>\n",
       "      <td>-0.014899</td>\n",
       "      <td>-0.016608</td>\n",
       "      <td>-0.019269</td>\n",
       "      <td>-0.000941</td>\n",
       "      <td>-0.019743</td>\n",
       "      <td>-0.010440</td>\n",
       "      <td>...</td>\n",
       "      <td>-0.004804</td>\n",
       "      <td>-0.005695</td>\n",
       "      <td>0.001872</td>\n",
       "      <td>0.008634</td>\n",
       "      <td>0.004994</td>\n",
       "      <td>0.099200</td>\n",
       "      <td>NaN</td>\n",
       "      <td>1.000000</td>\n",
       "      <td>0.889016</td>\n",
       "      <td>-0.002362</td>\n",
       "    </tr>\n",
       "    <tr>\n",
       "      <th>279</th>\n",
       "      <td>-0.014912</td>\n",
       "      <td>-0.017061</td>\n",
       "      <td>-0.001972</td>\n",
       "      <td>-0.016649</td>\n",
       "      <td>-0.012329</td>\n",
       "      <td>-0.013861</td>\n",
       "      <td>-0.016559</td>\n",
       "      <td>-0.000788</td>\n",
       "      <td>-0.017033</td>\n",
       "      <td>-0.008656</td>\n",
       "      <td>...</td>\n",
       "      <td>-0.005715</td>\n",
       "      <td>-0.008294</td>\n",
       "      <td>-0.000872</td>\n",
       "      <td>0.012704</td>\n",
       "      <td>0.004771</td>\n",
       "      <td>0.047204</td>\n",
       "      <td>NaN</td>\n",
       "      <td>0.889016</td>\n",
       "      <td>1.000000</td>\n",
       "      <td>-0.001354</td>\n",
       "    </tr>\n",
       "    <tr>\n",
       "      <th>280</th>\n",
       "      <td>0.485464</td>\n",
       "      <td>0.424616</td>\n",
       "      <td>0.053221</td>\n",
       "      <td>0.356604</td>\n",
       "      <td>0.491707</td>\n",
       "      <td>0.497631</td>\n",
       "      <td>0.433578</td>\n",
       "      <td>0.034916</td>\n",
       "      <td>0.322106</td>\n",
       "      <td>0.506540</td>\n",
       "      <td>...</td>\n",
       "      <td>-0.003085</td>\n",
       "      <td>-0.007672</td>\n",
       "      <td>0.008056</td>\n",
       "      <td>0.000869</td>\n",
       "      <td>-0.002905</td>\n",
       "      <td>-0.005661</td>\n",
       "      <td>NaN</td>\n",
       "      <td>-0.002362</td>\n",
       "      <td>-0.001354</td>\n",
       "      <td>1.000000</td>\n",
       "    </tr>\n",
       "  </tbody>\n",
       "</table>\n",
       "<p>281 rows × 281 columns</p>\n",
       "</div>"
      ],
      "text/plain": [
       "          0         1         2         3         4         5         6    \\\n",
       "0    1.000000  0.926063  0.153651  0.852126  0.973861  0.996860  0.941574   \n",
       "1    0.926063  1.000000  0.062471  0.923558  0.826808  0.913370  0.991400   \n",
       "2    0.153651  0.062471  1.000000  0.022318  0.182835  0.145746  0.101145   \n",
       "3    0.852126  0.923558  0.022318  1.000000  0.765456  0.825913  0.913739   \n",
       "4    0.973861  0.826808  0.182835  0.765456  1.000000  0.977636  0.854387   \n",
       "..        ...       ...       ...       ...       ...       ...       ...   \n",
       "276 -0.027460 -0.023272 -0.003911 -0.025526 -0.025281 -0.025921 -0.023688   \n",
       "277       NaN       NaN       NaN       NaN       NaN       NaN       NaN   \n",
       "278 -0.017798 -0.019602 -0.002359 -0.019494 -0.014899 -0.016608 -0.019269   \n",
       "279 -0.014912 -0.017061 -0.001972 -0.016649 -0.012329 -0.013861 -0.016559   \n",
       "280  0.485464  0.424616  0.053221  0.356604  0.491707  0.497631  0.433578   \n",
       "\n",
       "          7         8         9    ...       271       272       273  \\\n",
       "0    0.091091  0.795670  0.921001  ...  0.005452  0.004375  0.004817   \n",
       "1    0.017353  0.876339  0.753083  ...  0.011318  0.008135  0.006297   \n",
       "2    0.749392  0.015544  0.198764  ... -0.008345  0.023027 -0.001642   \n",
       "3    0.005770  0.959883  0.644830  ...  0.010237  0.015410  0.006113   \n",
       "4    0.126099  0.704929  0.960397  ...  0.000340  0.001888  0.003018   \n",
       "..        ...       ...       ...  ...       ...       ...       ...   \n",
       "276 -0.001425 -0.024884 -0.018783  ... -0.004324 -0.006229 -0.001337   \n",
       "277       NaN       NaN       NaN  ...       NaN       NaN       NaN   \n",
       "278 -0.000941 -0.019743 -0.010440  ... -0.004804 -0.005695  0.001872   \n",
       "279 -0.000788 -0.017033 -0.008656  ... -0.005715 -0.008294 -0.000872   \n",
       "280  0.034916  0.322106  0.506540  ... -0.003085 -0.007672  0.008056   \n",
       "\n",
       "          274       275       276  277       278       279       280  \n",
       "0   -0.029882 -0.028492 -0.027460  NaN -0.017798 -0.014912  0.485464  \n",
       "1   -0.026818 -0.039513 -0.023272  NaN -0.019602 -0.017061  0.424616  \n",
       "2   -0.008482 -0.000355 -0.003911  NaN -0.002359 -0.001972  0.053221  \n",
       "3   -0.035792 -0.050098 -0.025526  NaN -0.019494 -0.016649  0.356604  \n",
       "4   -0.027985 -0.017726 -0.025281  NaN -0.014899 -0.012329  0.491707  \n",
       "..        ...       ...       ...  ...       ...       ...       ...  \n",
       "276  0.001694 -0.004578  1.000000  NaN  0.099200  0.047204 -0.005661  \n",
       "277       NaN       NaN       NaN  NaN       NaN       NaN       NaN  \n",
       "278  0.008634  0.004994  0.099200  NaN  1.000000  0.889016 -0.002362  \n",
       "279  0.012704  0.004771  0.047204  NaN  0.889016  1.000000 -0.001354  \n",
       "280  0.000869 -0.002905 -0.005661  NaN -0.002362 -0.001354  1.000000  \n",
       "\n",
       "[281 rows x 281 columns]"
      ]
     },
     "execution_count": 32,
     "metadata": {},
     "output_type": "execute_result"
    }
   ],
   "source": [
    "corr = df_train.corr()\n",
    "corr"
   ]
  },
  {
   "cell_type": "code",
   "execution_count": 43,
   "metadata": {},
   "outputs": [],
   "source": [
    "correlation = corr*100"
   ]
  },
  {
   "cell_type": "markdown",
   "metadata": {},
   "source": [
    "### Correlation Matrix with Heatmap\n",
    "Correlation states how the features are related to each other or the target variable.\n",
    "\n",
    "Correlation can be positive (increase in one value of feature increases the value of the target variable) or negative (increase in one value of feature decreases the value of the target variable)\n",
    "\n",
    "Heatmap makes it easy to identify which features are most related to the target variable, we will plot heatmap of correlated features using the seaborn library."
   ]
  },
  {
   "cell_type": "code",
   "execution_count": 37,
   "metadata": {},
   "outputs": [],
   "source": [
    "from sklearn.preprocessing import StandardScaler\n",
    "sc = StandardScaler()\n",
    "df_train_std = sc.fit_transform(df_train)\n",
    "df_test_std =  sc.fit_transform(df_test)\n",
    "df_train_std = pd.DataFrame(df_train_std, columns=df_train.columns)\n",
    "df_test_std = pd.DataFrame(df_test_std, columns = df_test.columns)"
   ]
  },
  {
   "cell_type": "code",
   "execution_count": 38,
   "metadata": {},
   "outputs": [],
   "source": [
    "X_train=df_train_std.iloc[:,:-1] ## independent features\n",
    "y_train=df_train_std.iloc[:,-1] ## dependent features\n",
    "\n",
    "X_test = df_test_std.iloc[:,:-1]\n",
    "y_test = df_test_std.iloc[:,-1]\n",
    "\n"
   ]
  },
  {
   "cell_type": "markdown",
   "metadata": {},
   "source": [
    "### Feature Importance\n",
    "You can get the feature importance of each feature of your dataset by using the feature importance property of the model.\n",
    "\n",
    "Feature importance gives you a score for each feature of your data, the higher the score more important or relevant is the feature towards your output variable.\n",
    "\n",
    "Feature importance is an inbuilt class that comes with Tree Based Regressor, we will be using Extra Tree Regressor for extracting the top 10 features for the dataset."
   ]
  },
  {
   "cell_type": "code",
   "execution_count": 39,
   "metadata": {},
   "outputs": [
    {
     "data": {
      "text/plain": [
       "ExtraTreesRegressor(bootstrap=False, ccp_alpha=0.0, criterion='mse',\n",
       "                    max_depth=None, max_features='auto', max_leaf_nodes=None,\n",
       "                    max_samples=None, min_impurity_decrease=0.0,\n",
       "                    min_impurity_split=None, min_samples_leaf=1,\n",
       "                    min_samples_split=2, min_weight_fraction_leaf=0.0,\n",
       "                    n_estimators=100, n_jobs=None, oob_score=False,\n",
       "                    random_state=None, verbose=0, warm_start=False)"
      ]
     },
     "execution_count": 39,
     "metadata": {},
     "output_type": "execute_result"
    }
   ],
   "source": [
    "from sklearn.ensemble import ExtraTreesRegressor\n",
    "import matplotlib.pyplot as plt\n",
    "model = ExtraTreesRegressor()\n",
    "model.fit(X_train,y_train)"
   ]
  },
  {
   "cell_type": "code",
   "execution_count": 40,
   "metadata": {},
   "outputs": [
    {
     "name": "stdout",
     "output_type": "stream",
     "text": [
      "[2.08846347e-02 3.36529818e-03 7.82868386e-04 3.32486402e-03\n",
      " 2.09491139e-02 3.52812791e-02 2.13880701e-02 1.84627409e-04\n",
      " 1.37821809e-03 2.41736858e-02 2.86090047e-02 2.62259974e-02\n",
      " 0.00000000e+00 1.56211164e-03 8.66849849e-03 8.72256622e-03\n",
      " 2.59514098e-03 8.68478044e-04 1.72514854e-03 1.89545882e-02\n",
      " 1.28040212e-02 3.57613951e-02 2.15106511e-03 1.75486162e-03\n",
      " 1.23946100e-03 6.40014193e-04 7.43063054e-04 3.82657018e-06\n",
      " 3.20430009e-03 8.03955762e-04 6.39018358e-04 8.48637203e-04\n",
      " 0.00000000e+00 5.42085421e-03 2.60624151e-03 8.04740377e-04\n",
      " 8.12999313e-04 0.00000000e+00 5.45603233e-03 2.00607125e-05\n",
      " 7.46782676e-04 7.96563700e-04 1.39919376e-05 6.97341160e-04\n",
      " 4.60276289e-04 1.13728333e-03 8.06048463e-04 1.42266866e-03\n",
      " 6.97988713e-04 2.82747296e-06 1.66429121e-02 6.48997597e-02\n",
      " 1.11323521e-02 1.58449536e-02 2.70720860e-02 6.32473683e-03\n",
      " 8.71073996e-03 2.55771788e-03 6.57081487e-03 7.85826060e-03\n",
      " 2.22623888e-01 4.98900309e-03 1.15774388e-04 3.00251693e-03\n",
      " 1.06647487e-08 7.36259923e-06 3.64543968e-03 4.25974002e-03\n",
      " 9.99626438e-03 5.79241140e-05 1.02421589e-04 1.00514967e-03\n",
      " 1.36145728e-10 1.06912268e-06 8.10722409e-05 0.00000000e+00\n",
      " 1.93185310e-03 2.96102758e-05 3.21444452e-03 0.00000000e+00\n",
      " 0.00000000e+00 6.00708680e-05 1.77658702e-05 1.25707889e-08\n",
      " 1.07697704e-03 9.72032652e-04 1.49626066e-08 7.27354187e-04\n",
      " 2.43760575e-03 4.15979664e-05 7.74307528e-07 1.19636334e-04\n",
      " 1.08719212e-03 0.00000000e+00 2.88394625e-08 3.97258793e-03\n",
      " 0.00000000e+00 1.45335301e-04 7.29461120e-06 3.27232093e-06\n",
      " 7.49943664e-03 5.62431428e-03 2.20343823e-03 2.03455384e-03\n",
      " 1.74565186e-04 7.19348198e-06 8.59120840e-05 2.96172520e-03\n",
      " 6.80728639e-11 7.84090463e-04 1.42148771e-07 8.99392986e-06\n",
      " 3.17375233e-06 2.78757557e-03 2.13982396e-03 1.53327992e-03\n",
      " 7.50369936e-05 1.10259682e-03 7.86175164e-04 2.44520786e-03\n",
      " 1.39489485e-03 2.70275207e-03 6.91756193e-07 6.14804441e-05\n",
      " 1.25004591e-03 4.18669807e-05 7.98912965e-05 3.49664589e-04\n",
      " 2.40763903e-08 0.00000000e+00 3.24627440e-05 9.07638186e-11\n",
      " 3.37611567e-05 1.62377332e-03 9.20682484e-04 2.58090787e-03\n",
      " 5.46612880e-04 2.25001647e-03 3.91443429e-03 2.21203253e-03\n",
      " 3.75181183e-03 3.72203882e-04 1.59298204e-03 8.01328928e-04\n",
      " 5.72828661e-05 2.02956967e-05 4.92981572e-05 1.18026833e-06\n",
      " 2.17833165e-09 9.25584900e-05 3.47719505e-03 3.44673103e-06\n",
      " 1.21241557e-03 4.82734303e-03 2.39094589e-08 7.65819719e-07\n",
      " 4.43869067e-04 4.22118271e-03 2.99497686e-03 2.20461266e-06\n",
      " 9.56083374e-09 1.28272577e-03 2.32125280e-03 2.67760325e-04\n",
      " 3.58885278e-05 0.00000000e+00 7.84046968e-05 1.90261819e-06\n",
      " 0.00000000e+00 1.77741027e-03 2.20071377e-03 0.00000000e+00\n",
      " 3.23452898e-08 2.65828933e-04 2.58930611e-04 4.54593626e-05\n",
      " 1.32324292e-04 0.00000000e+00 0.00000000e+00 2.95024769e-03\n",
      " 2.11615939e-03 2.22353635e-03 2.01072968e-03 3.31706158e-03\n",
      " 1.75658314e-06 6.68879672e-04 3.59947592e-04 8.99572791e-05\n",
      " 2.02520971e-03 0.00000000e+00 2.79460577e-03 1.19959717e-03\n",
      " 5.16124625e-03 5.07723104e-03 2.42503150e-03 8.16224930e-04\n",
      " 1.85085227e-03 1.81527637e-10 1.41300020e-05 1.15043140e-08\n",
      " 4.90542522e-05 3.06134327e-03 5.73236987e-07 9.58617868e-05\n",
      " 9.24873904e-04 2.22970401e-04 2.25958695e-03 1.52451891e-03\n",
      " 1.45164322e-04 4.59733191e-03 3.14397822e-04 0.00000000e+00\n",
      " 3.84676521e-03 2.20516057e-05 6.53535302e-04 2.77451983e-03\n",
      " 1.24806476e-05 6.26798720e-04 1.72783648e-03 6.94632363e-06\n",
      " 2.44480361e-03 4.01583884e-05 1.29253484e-10 1.26492251e-06\n",
      " 2.56032501e-04 9.56659125e-03 4.05491356e-04 1.85015591e-03\n",
      " 1.66106532e-05 3.80413523e-03 3.51929574e-04 4.29868577e-03\n",
      " 2.98268845e-03 1.80289995e-03 7.58003217e-06 0.00000000e+00\n",
      " 5.53503348e-05 1.41121299e-05 3.04967023e-05 6.40453638e-05\n",
      " 2.96991467e-03 1.36251661e-04 7.26110549e-09 8.29310189e-09\n",
      " 1.51990757e-03 3.41412593e-03 3.12059454e-03 7.93363155e-03\n",
      " 6.30352211e-04 0.00000000e+00 6.07909917e-04 1.05533629e-03\n",
      " 2.07978807e-09 1.51237921e-03 1.00757718e-03 1.39002564e-06\n",
      " 6.21582969e-04 7.99957781e-04 1.08048734e-04 1.19108895e-04\n",
      " 1.26453709e-03 2.83450444e-07 3.32346931e-03 2.65147106e-03\n",
      " 3.34830600e-03 5.85725315e-03 2.86527940e-03 5.31708484e-03\n",
      " 4.57236538e-03 3.34045244e-03 2.56604512e-03 5.26394850e-03\n",
      " 2.73211056e-03 4.15919592e-03 3.90313851e-03 2.32289188e-03\n",
      " 2.43680168e-03 0.00000000e+00 8.77779316e-04 1.34525115e-03]\n"
     ]
    }
   ],
   "source": [
    "print(model.feature_importances_)"
   ]
  },
  {
   "cell_type": "code",
   "execution_count": 48,
   "metadata": {},
   "outputs": [
    {
     "data": {
      "text/plain": [
       "<matplotlib.axes._subplots.AxesSubplot at 0x1c0bd7c0a58>"
      ]
     },
     "execution_count": 48,
     "metadata": {},
     "output_type": "execute_result"
    },
    {
     "data": {
      "image/png": "[encoded data removed]",
      "text/plain": [
       "<Figure size 432x288 with 1 Axes>"
      ]
     },
     "metadata": {
      "needs_background": "light"
     },
     "output_type": "display_data"
    }
   ],
   "source": [
    "\n",
    "#plot graph of feature importances for better visualization\n",
    "feat_importances = pd.Series(model.feature_importances_, index=X_train.columns)\n",
    "feat_importances.nlargest(10).plot(kind='barh')\n",
    "plt.show()"
   ]
  },
  {
   "cell_type": "code",
   "execution_count": 51,
   "metadata": {},
   "outputs": [],
   "source": [
    "column = [60,51,5,10,9,54,11,6,21,15,4]\n",
    "column1 = ['60','51','5','10','9','54','11','6','21','15','4']"
   ]
  },
  {
   "cell_type": "code",
   "execution_count": 52,
   "metadata": {},
   "outputs": [],
   "source": [
    "X_train1 = X_train[column]\n",
    "X_test1 = X_test[column1]"
   ]
  },
  {
   "cell_type": "code",
   "execution_count": 53,
   "metadata": {},
   "outputs": [
    {
     "data": {
      "text/html": [
       "<div>\n",
       "<style scoped>\n",
       "    .dataframe tbody tr th:only-of-type {\n",
       "        vertical-align: middle;\n",
       "    }\n",
       "\n",
       "    .dataframe tbody tr th {\n",
       "        vertical-align: top;\n",
       "    }\n",
       "\n",
       "    .dataframe thead th {\n",
       "        text-align: right;\n",
       "    }\n",
       "</style>\n",
       "<table border=\"1\" class=\"dataframe\">\n",
       "  <thead>\n",
       "    <tr style=\"text-align: right;\">\n",
       "      <th></th>\n",
       "      <th>60</th>\n",
       "      <th>51</th>\n",
       "      <th>5</th>\n",
       "      <th>10</th>\n",
       "      <th>9</th>\n",
       "      <th>54</th>\n",
       "      <th>11</th>\n",
       "      <th>6</th>\n",
       "      <th>21</th>\n",
       "      <th>15</th>\n",
       "      <th>4</th>\n",
       "    </tr>\n",
       "  </thead>\n",
       "  <tbody>\n",
       "    <tr>\n",
       "      <th>0</th>\n",
       "      <td>-1.199772</td>\n",
       "      <td>-0.229670</td>\n",
       "      <td>0.009598</td>\n",
       "      <td>-0.00031</td>\n",
       "      <td>-0.119031</td>\n",
       "      <td>0.012103</td>\n",
       "      <td>0.113595</td>\n",
       "      <td>0.116182</td>\n",
       "      <td>0.119797</td>\n",
       "      <td>-0.004944</td>\n",
       "      <td>-0.139108</td>\n",
       "    </tr>\n",
       "    <tr>\n",
       "      <th>1</th>\n",
       "      <td>0.010755</td>\n",
       "      <td>-0.229670</td>\n",
       "      <td>0.009598</td>\n",
       "      <td>-0.00031</td>\n",
       "      <td>-0.119031</td>\n",
       "      <td>-0.045635</td>\n",
       "      <td>0.113595</td>\n",
       "      <td>0.116182</td>\n",
       "      <td>0.119797</td>\n",
       "      <td>-0.004944</td>\n",
       "      <td>-0.139108</td>\n",
       "    </tr>\n",
       "    <tr>\n",
       "      <th>2</th>\n",
       "      <td>0.010755</td>\n",
       "      <td>-0.229670</td>\n",
       "      <td>0.009598</td>\n",
       "      <td>-0.00031</td>\n",
       "      <td>-0.119031</td>\n",
       "      <td>-0.045635</td>\n",
       "      <td>0.113595</td>\n",
       "      <td>0.116182</td>\n",
       "      <td>0.119797</td>\n",
       "      <td>-0.004944</td>\n",
       "      <td>-0.139108</td>\n",
       "    </tr>\n",
       "    <tr>\n",
       "      <th>3</th>\n",
       "      <td>-1.199772</td>\n",
       "      <td>-0.229670</td>\n",
       "      <td>0.009598</td>\n",
       "      <td>-0.00031</td>\n",
       "      <td>-0.119031</td>\n",
       "      <td>0.012103</td>\n",
       "      <td>0.113595</td>\n",
       "      <td>0.116182</td>\n",
       "      <td>0.119797</td>\n",
       "      <td>-0.004944</td>\n",
       "      <td>-0.139108</td>\n",
       "    </tr>\n",
       "    <tr>\n",
       "      <th>4</th>\n",
       "      <td>-0.037666</td>\n",
       "      <td>-0.247051</td>\n",
       "      <td>0.009598</td>\n",
       "      <td>-0.00031</td>\n",
       "      <td>-0.119031</td>\n",
       "      <td>-0.031200</td>\n",
       "      <td>0.113595</td>\n",
       "      <td>0.116182</td>\n",
       "      <td>0.119797</td>\n",
       "      <td>-0.004944</td>\n",
       "      <td>-0.139108</td>\n",
       "    </tr>\n",
       "  </tbody>\n",
       "</table>\n",
       "</div>"
      ],
      "text/plain": [
       "         60        51        5        10        9         54        11  \\\n",
       "0 -1.199772 -0.229670  0.009598 -0.00031 -0.119031  0.012103  0.113595   \n",
       "1  0.010755 -0.229670  0.009598 -0.00031 -0.119031 -0.045635  0.113595   \n",
       "2  0.010755 -0.229670  0.009598 -0.00031 -0.119031 -0.045635  0.113595   \n",
       "3 -1.199772 -0.229670  0.009598 -0.00031 -0.119031  0.012103  0.113595   \n",
       "4 -0.037666 -0.247051  0.009598 -0.00031 -0.119031 -0.031200  0.113595   \n",
       "\n",
       "         6         21        15        4   \n",
       "0  0.116182  0.119797 -0.004944 -0.139108  \n",
       "1  0.116182  0.119797 -0.004944 -0.139108  \n",
       "2  0.116182  0.119797 -0.004944 -0.139108  \n",
       "3  0.116182  0.119797 -0.004944 -0.139108  \n",
       "4  0.116182  0.119797 -0.004944 -0.139108  "
      ]
     },
     "execution_count": 53,
     "metadata": {},
     "output_type": "execute_result"
    }
   ],
   "source": [
    "X_train1.head()"
   ]
  },
  {
   "cell_type": "code",
   "execution_count": 54,
   "metadata": {},
   "outputs": [
    {
     "data": {
      "text/html": [
       "<div>\n",
       "<style scoped>\n",
       "    .dataframe tbody tr th:only-of-type {\n",
       "        vertical-align: middle;\n",
       "    }\n",
       "\n",
       "    .dataframe tbody tr th {\n",
       "        vertical-align: top;\n",
       "    }\n",
       "\n",
       "    .dataframe thead th {\n",
       "        text-align: right;\n",
       "    }\n",
       "</style>\n",
       "<table border=\"1\" class=\"dataframe\">\n",
       "  <thead>\n",
       "    <tr style=\"text-align: right;\">\n",
       "      <th></th>\n",
       "      <th>60</th>\n",
       "      <th>51</th>\n",
       "      <th>5</th>\n",
       "      <th>10</th>\n",
       "      <th>9</th>\n",
       "      <th>54</th>\n",
       "      <th>11</th>\n",
       "      <th>6</th>\n",
       "      <th>21</th>\n",
       "      <th>15</th>\n",
       "      <th>4</th>\n",
       "    </tr>\n",
       "  </thead>\n",
       "  <tbody>\n",
       "    <tr>\n",
       "      <th>0</th>\n",
       "      <td>-1.247946</td>\n",
       "      <td>0.457778</td>\n",
       "      <td>-0.281679</td>\n",
       "      <td>-0.278761</td>\n",
       "      <td>-0.127069</td>\n",
       "      <td>0.559693</td>\n",
       "      <td>-0.370381</td>\n",
       "      <td>-0.370876</td>\n",
       "      <td>-0.364839</td>\n",
       "      <td>-0.279926</td>\n",
       "      <td>-0.211614</td>\n",
       "    </tr>\n",
       "    <tr>\n",
       "      <th>1</th>\n",
       "      <td>1.335115</td>\n",
       "      <td>-0.237200</td>\n",
       "      <td>0.114223</td>\n",
       "      <td>0.134854</td>\n",
       "      <td>-0.091677</td>\n",
       "      <td>-0.054278</td>\n",
       "      <td>0.580426</td>\n",
       "      <td>0.587662</td>\n",
       "      <td>0.536001</td>\n",
       "      <td>0.169739</td>\n",
       "      <td>-0.012970</td>\n",
       "    </tr>\n",
       "    <tr>\n",
       "      <th>2</th>\n",
       "      <td>-1.052998</td>\n",
       "      <td>-0.197487</td>\n",
       "      <td>-0.390233</td>\n",
       "      <td>-0.390594</td>\n",
       "      <td>-0.162461</td>\n",
       "      <td>0.012097</td>\n",
       "      <td>-0.612663</td>\n",
       "      <td>-0.619761</td>\n",
       "      <td>-0.593256</td>\n",
       "      <td>-0.404519</td>\n",
       "      <td>-0.277828</td>\n",
       "    </tr>\n",
       "    <tr>\n",
       "      <th>3</th>\n",
       "      <td>-1.247946</td>\n",
       "      <td>-0.177630</td>\n",
       "      <td>-0.058093</td>\n",
       "      <td>-0.059383</td>\n",
       "      <td>-0.020892</td>\n",
       "      <td>0.028691</td>\n",
       "      <td>0.019559</td>\n",
       "      <td>0.016678</td>\n",
       "      <td>-0.058067</td>\n",
       "      <td>-0.095610</td>\n",
       "      <td>-0.092428</td>\n",
       "    </tr>\n",
       "    <tr>\n",
       "      <th>4</th>\n",
       "      <td>-1.442894</td>\n",
       "      <td>-0.237200</td>\n",
       "      <td>-0.315329</td>\n",
       "      <td>-0.366930</td>\n",
       "      <td>-0.144765</td>\n",
       "      <td>-0.021091</td>\n",
       "      <td>-0.584305</td>\n",
       "      <td>-0.550350</td>\n",
       "      <td>-0.584277</td>\n",
       "      <td>-0.380014</td>\n",
       "      <td>-0.271207</td>\n",
       "    </tr>\n",
       "  </tbody>\n",
       "</table>\n",
       "</div>"
      ],
      "text/plain": [
       "         60        51         5        10         9        54        11  \\\n",
       "0 -1.247946  0.457778 -0.281679 -0.278761 -0.127069  0.559693 -0.370381   \n",
       "1  1.335115 -0.237200  0.114223  0.134854 -0.091677 -0.054278  0.580426   \n",
       "2 -1.052998 -0.197487 -0.390233 -0.390594 -0.162461  0.012097 -0.612663   \n",
       "3 -1.247946 -0.177630 -0.058093 -0.059383 -0.020892  0.028691  0.019559   \n",
       "4 -1.442894 -0.237200 -0.315329 -0.366930 -0.144765 -0.021091 -0.584305   \n",
       "\n",
       "          6        21        15         4  \n",
       "0 -0.370876 -0.364839 -0.279926 -0.211614  \n",
       "1  0.587662  0.536001  0.169739 -0.012970  \n",
       "2 -0.619761 -0.593256 -0.404519 -0.277828  \n",
       "3  0.016678 -0.058067 -0.095610 -0.092428  \n",
       "4 -0.550350 -0.584277 -0.380014 -0.271207  "
      ]
     },
     "execution_count": 54,
     "metadata": {},
     "output_type": "execute_result"
    }
   ],
   "source": [
    "X_test1.head()"
   ]
  },
  {
   "cell_type": "markdown",
   "metadata": {},
   "source": [
    "### Linear Regression"
   ]
  },
  {
   "cell_type": "code",
   "execution_count": 55,
   "metadata": {},
   "outputs": [
    {
     "data": {
      "text/plain": [
       "<matplotlib.axes._subplots.AxesSubplot at 0x1c0bd80b198>"
      ]
     },
     "execution_count": 55,
     "metadata": {},
     "output_type": "execute_result"
    },
    {
     "data": {
      "image/png": "[encoded data removed]",
      "text/plain": [
       "<Figure size 432x288 with 1 Axes>"
      ]
     },
     "metadata": {
      "needs_background": "light"
     },
     "output_type": "display_data"
    }
   ],
   "source": [
    "sns.distplot(y_train)"
   ]
  },
  {
   "cell_type": "code",
   "execution_count": 56,
   "metadata": {},
   "outputs": [],
   "source": [
    "from sklearn.linear_model import LinearRegression"
   ]
  },
  {
   "cell_type": "code",
   "execution_count": 57,
   "metadata": {},
   "outputs": [
    {
     "data": {
      "text/plain": [
       "LinearRegression(copy_X=True, fit_intercept=True, n_jobs=None, normalize=False)"
      ]
     },
     "execution_count": 57,
     "metadata": {},
     "output_type": "execute_result"
    }
   ],
   "source": [
    "regressor=LinearRegression()\n",
    "regressor.fit(X_train1,y_train)"
   ]
  },
  {
   "cell_type": "code",
   "execution_count": 58,
   "metadata": {},
   "outputs": [],
   "source": [
    "y_pred_lr = regressor.predict(X_test1)"
   ]
  },
  {
   "cell_type": "code",
   "execution_count": 59,
   "metadata": {},
   "outputs": [
    {
     "data": {
      "text/plain": [
       "array([-0.09919549,  0.09386136,  0.86152435,  0.1620711 ,  0.09586586,\n",
       "        0.19150329,  0.11977794,  0.21775663, -0.29386855, -0.82811586,\n",
       "        0.1061096 ])"
      ]
     },
     "execution_count": 59,
     "metadata": {},
     "output_type": "execute_result"
    }
   ],
   "source": [
    "regressor.coef_"
   ]
  },
  {
   "cell_type": "code",
   "execution_count": 60,
   "metadata": {},
   "outputs": [
    {
     "data": {
      "text/plain": [
       "-7.057016912790327e-17"
      ]
     },
     "execution_count": 60,
     "metadata": {},
     "output_type": "execute_result"
    }
   ],
   "source": [
    "regressor.intercept_"
   ]
  },
  {
   "cell_type": "code",
   "execution_count": 61,
   "metadata": {},
   "outputs": [
    {
     "name": "stdout",
     "output_type": "stream",
     "text": [
      "Coefficient of determination R^2 <-- on train set: 0.35194478928949213\n",
      "Coefficient of determination R^2 <-- on train set: 0.32294184384598545\n"
     ]
    }
   ],
   "source": [
    "print(\"Coefficient of determination R^2 <-- on train set: {}\".format(regressor.score(X_train1, y_train)))\n",
    "print(\"Coefficient of determination R^2 <-- on train set: {}\".format(regressor.score(X_test1, y_test)))"
   ]
  },
  {
   "cell_type": "markdown",
   "metadata": {},
   "source": [
    "#### Model Evaluation"
   ]
  },
  {
   "cell_type": "code",
   "execution_count": 62,
   "metadata": {},
   "outputs": [
    {
     "data": {
      "text/html": [
       "<div>\n",
       "<style scoped>\n",
       "    .dataframe tbody tr th:only-of-type {\n",
       "        vertical-align: middle;\n",
       "    }\n",
       "\n",
       "    .dataframe tbody tr th {\n",
       "        vertical-align: top;\n",
       "    }\n",
       "\n",
       "    .dataframe thead th {\n",
       "        text-align: right;\n",
       "    }\n",
       "</style>\n",
       "<table border=\"1\" class=\"dataframe\">\n",
       "  <thead>\n",
       "    <tr style=\"text-align: right;\">\n",
       "      <th></th>\n",
       "      <th>Coefficient</th>\n",
       "    </tr>\n",
       "  </thead>\n",
       "  <tbody>\n",
       "    <tr>\n",
       "      <th>60</th>\n",
       "      <td>-0.099195</td>\n",
       "    </tr>\n",
       "    <tr>\n",
       "      <th>51</th>\n",
       "      <td>0.093861</td>\n",
       "    </tr>\n",
       "    <tr>\n",
       "      <th>5</th>\n",
       "      <td>0.861524</td>\n",
       "    </tr>\n",
       "    <tr>\n",
       "      <th>10</th>\n",
       "      <td>0.162071</td>\n",
       "    </tr>\n",
       "    <tr>\n",
       "      <th>9</th>\n",
       "      <td>0.095866</td>\n",
       "    </tr>\n",
       "    <tr>\n",
       "      <th>54</th>\n",
       "      <td>0.191503</td>\n",
       "    </tr>\n",
       "    <tr>\n",
       "      <th>11</th>\n",
       "      <td>0.119778</td>\n",
       "    </tr>\n",
       "    <tr>\n",
       "      <th>6</th>\n",
       "      <td>0.217757</td>\n",
       "    </tr>\n",
       "    <tr>\n",
       "      <th>21</th>\n",
       "      <td>-0.293869</td>\n",
       "    </tr>\n",
       "    <tr>\n",
       "      <th>15</th>\n",
       "      <td>-0.828116</td>\n",
       "    </tr>\n",
       "    <tr>\n",
       "      <th>4</th>\n",
       "      <td>0.106110</td>\n",
       "    </tr>\n",
       "  </tbody>\n",
       "</table>\n",
       "</div>"
      ],
      "text/plain": [
       "    Coefficient\n",
       "60    -0.099195\n",
       "51     0.093861\n",
       "5      0.861524\n",
       "10     0.162071\n",
       "9      0.095866\n",
       "54     0.191503\n",
       "11     0.119778\n",
       "6      0.217757\n",
       "21    -0.293869\n",
       "15    -0.828116\n",
       "4      0.106110"
      ]
     },
     "execution_count": 62,
     "metadata": {},
     "output_type": "execute_result"
    }
   ],
   "source": [
    "coeff_df = pd.DataFrame(regressor.coef_,X_train1.columns,columns=['Coefficient'])\n",
    "coeff_df"
   ]
  },
  {
   "cell_type": "code",
   "execution_count": 63,
   "metadata": {},
   "outputs": [
    {
     "data": {
      "text/plain": [
       "<matplotlib.axes._subplots.AxesSubplot at 0x1c0bdcc1080>"
      ]
     },
     "execution_count": 63,
     "metadata": {},
     "output_type": "execute_result"
    },
    {
     "data": {
      "image/png": "[encoded data removed]",
      "text/plain": [
       "<Figure size 432x288 with 1 Axes>"
      ]
     },
     "metadata": {
      "needs_background": "light"
     },
     "output_type": "display_data"
    }
   ],
   "source": [
    "sns.distplot(y_test-y_pred_lr)"
   ]
  },
  {
   "cell_type": "code",
   "execution_count": 64,
   "metadata": {},
   "outputs": [
    {
     "data": {
      "text/plain": [
       "<matplotlib.collections.PathCollection at 0x1c0bddcf5c0>"
      ]
     },
     "execution_count": 64,
     "metadata": {},
     "output_type": "execute_result"
    },
    {
     "data": {
      "image/png": "[encoded data removed]",
      "text/plain": [
       "<Figure size 432x288 with 1 Axes>"
      ]
     },
     "metadata": {
      "needs_background": "light"
     },
     "output_type": "display_data"
    }
   ],
   "source": [
    "plt.scatter(y_test,y_pred_lr)"
   ]
  },
  {
   "cell_type": "markdown",
   "metadata": {},
   "source": [
    "# Regression Evaluation Metrics\n",
    "\n",
    "\n",
    "Here are three common evaluation metrics for regression problems:\n",
    "\n",
    "**Mean Absolute Error** (MAE) is the mean of the absolute value of the errors:\n",
    "\n",
    "$$\\frac 1n\\sum_{i=1}^n|y_i-\\hat{y}_i|$$\n",
    "\n",
    "**Mean Squared Error** (MSE) is the mean of the squared errors:\n",
    "\n",
    "$$\\frac 1n\\sum_{i=1}^n(y_i-\\hat{y}_i)^2$$\n",
    "\n",
    "**Root Mean Squared Error** (RMSE) is the square root of the mean of the squared errors:\n",
    "\n",
    "$$\\sqrt{\\frac 1n\\sum_{i=1}^n(y_i-\\hat{y}_i)^2}$$\n",
    "\n",
    "Comparing these metrics:\n",
    "\n",
    "- **MAE** is the easiest to understand, because it's the average error.\n",
    "- **MSE** is more popular than MAE, because MSE \"punishes\" larger errors, which tends to be useful in the real world.\n",
    "- **RMSE** is even more popular than MSE, because RMSE is interpretable in the \"y\" units.\n",
    "\n",
    "All of these are **loss functions**, because we want to minimize them."
   ]
  },
  {
   "cell_type": "code",
   "execution_count": 65,
   "metadata": {},
   "outputs": [],
   "source": [
    "from sklearn import metrics"
   ]
  },
  {
   "cell_type": "code",
   "execution_count": 66,
   "metadata": {},
   "outputs": [
    {
     "name": "stdout",
     "output_type": "stream",
     "text": [
      "MAE: 0.2506701034689768\n",
      "MSE: 0.6770581561540147\n",
      "RMSE: 0.8228354368608675\n"
     ]
    }
   ],
   "source": [
    "print('MAE:', metrics.mean_absolute_error(y_test, y_pred_lr))\n",
    "print('MSE:', metrics.mean_squared_error(y_test, y_pred_lr))\n",
    "print('RMSE:', np.sqrt(metrics.mean_squared_error(y_test, y_pred_lr)))"
   ]
  },
  {
   "cell_type": "markdown",
   "metadata": {},
   "source": [
    "## Decision tree Regressor"
   ]
  },
  {
   "cell_type": "code",
   "execution_count": 67,
   "metadata": {},
   "outputs": [],
   "source": [
    "from sklearn.tree import DecisionTreeRegressor"
   ]
  },
  {
   "cell_type": "code",
   "execution_count": 68,
   "metadata": {},
   "outputs": [],
   "source": [
    "model_tree = DecisionTreeRegressor().fit(X_train1,y_train)\n",
    "y_tree_predictions = model_tree.predict(X_test1)"
   ]
  },
  {
   "cell_type": "code",
   "execution_count": 69,
   "metadata": {},
   "outputs": [
    {
     "name": "stdout",
     "output_type": "stream",
     "text": [
      "Coefficient of determination R^2 <-- on train set: 0.9414995315064452\n",
      "Coefficient of determination R^2 <-- on test set: 0.06937957203360934\n"
     ]
    }
   ],
   "source": [
    "print(\"Coefficient of determination R^2 <-- on train set: {}\".format(model_tree.score(X_train1, y_train)))\n",
    "print(\"Coefficient of determination R^2 <-- on test set: {}\".format(model_tree.score(X_test1, y_test)))"
   ]
  },
  {
   "cell_type": "code",
   "execution_count": null,
   "metadata": {},
   "outputs": [],
   "source": [
    "##conda install pydotplus\n",
    "## conda install python-graphviz\n",
    "\n",
    "from IPython.display import Image  \n",
    "from sklearn.externals.six import StringIO  \n",
    "from sklearn.tree import export_graphviz\n",
    "import pydotplus\n",
    "\n"
   ]
  },
  {
   "cell_type": "code",
   "execution_count": null,
   "metadata": {},
   "outputs": [],
   "source": [
    "#features = list(X_train1.columns)\n",
    "#features"
   ]
  },
  {
   "cell_type": "code",
   "execution_count": null,
   "metadata": {},
   "outputs": [],
   "source": [
    "#dot_data = StringIO()  \n",
    "#export_graphviz(model_tree, out_file=dot_data,feature_names=features,filled=True,rounded=True)\n",
    "\n",
    "#graph = pydotplus.graph_from_dot_data(dot_data.getvalue())  \n",
    "#Image(graph.create_png())"
   ]
  },
  {
   "cell_type": "code",
   "execution_count": 42,
   "metadata": {},
   "outputs": [
    {
     "data": {
      "text/plain": [
       "<matplotlib.axes._subplots.AxesSubplot at 0x1dc9ff3a0b8>"
      ]
     },
     "execution_count": 42,
     "metadata": {},
     "output_type": "execute_result"
    },
    {
     "data": {
      "image/png": "[encoded data removed]",
      "text/plain": [
       "<Figure size 432x288 with 1 Axes>"
      ]
     },
     "metadata": {
      "needs_background": "light"
     },
     "output_type": "display_data"
    }
   ],
   "source": [
    "sns.distplot(y_test-y_tree_predictions)"
   ]
  },
  {
   "cell_type": "code",
   "execution_count": 43,
   "metadata": {},
   "outputs": [
    {
     "data": {
      "text/plain": [
       "<matplotlib.collections.PathCollection at 0x1dcb94b0160>"
      ]
     },
     "execution_count": 43,
     "metadata": {},
     "output_type": "execute_result"
    },
    {
     "data": {
      "image/png": "[encoded data removed]",
      "text/plain": [
       "<Figure size 432x288 with 1 Axes>"
      ]
     },
     "metadata": {
      "needs_background": "light"
     },
     "output_type": "display_data"
    }
   ],
   "source": [
    "plt.scatter(y_test,y_tree_predictions)"
   ]
  },
  {
   "cell_type": "code",
   "execution_count": 70,
   "metadata": {},
   "outputs": [
    {
     "name": "stdout",
     "output_type": "stream",
     "text": [
      "MAE: 0.22986523762273564\n",
      "MSE: 0.9306204279663909\n",
      "RMSE: 0.9646866993829607\n"
     ]
    }
   ],
   "source": [
    "print('MAE:', metrics.mean_absolute_error(y_test, y_tree_predictions))\n",
    "print('MSE:', metrics.mean_squared_error(y_test, y_tree_predictions))\n",
    "print('RMSE:', np.sqrt(metrics.mean_squared_error(y_test, y_tree_predictions)))"
   ]
  },
  {
   "cell_type": "markdown",
   "metadata": {},
   "source": [
    "### Regression Evaluation Metrics\n",
    "Here are three common evaluation metrics for regression problems:\n",
    "\n",
    "Mean Absolute Error (MAE) is the mean of the absolute value of the errors:\n",
    "\n",
    "\n",
    " \n",
    "Mean Squared Error (MSE) is the mean of the squared errors:\n",
    "\n",
    "\n",
    " \n",
    "Root Mean Squared Error (RMSE) is the square root of the mean of the squared errors:\n",
    "\n",
    "\n",
    " \n",
    "Comparing these metrics:\n",
    "\n",
    "MAE is the easiest to understand, because it's the average error.\n",
    "MSE is more popular than MAE, because MSE \"punishes\" larger errors, which tends to be useful in the real world.\n",
    "RMSE is even more popular than MSE, because RMSE is interpretable in the \"y\" units.\n",
    "All of these are loss functions, because we want to minimize them."
   ]
  },
  {
   "cell_type": "markdown",
   "metadata": {},
   "source": [
    "## Random Forest Regressor"
   ]
  },
  {
   "cell_type": "code",
   "execution_count": 71,
   "metadata": {},
   "outputs": [],
   "source": [
    "from sklearn.ensemble import RandomForestRegressor"
   ]
  },
  {
   "cell_type": "code",
   "execution_count": 72,
   "metadata": {},
   "outputs": [],
   "source": [
    "rf_regressor = RandomForestRegressor().fit(X_train1,y_train)"
   ]
  },
  {
   "cell_type": "code",
   "execution_count": 73,
   "metadata": {},
   "outputs": [],
   "source": [
    "y_pred_rf = rf_regressor.predict(X_test1)"
   ]
  },
  {
   "cell_type": "code",
   "execution_count": 74,
   "metadata": {},
   "outputs": [
    {
     "name": "stdout",
     "output_type": "stream",
     "text": [
      "Coefficient of determination R^2 <-- on train set: 0.8920780202782238\n",
      "Coefficient of determination R^2 <-- on test set: 0.4227084033225009\n"
     ]
    }
   ],
   "source": [
    "print(\"Coefficient of determination R^2 <-- on train set: {}\".format(rf_regressor.score(X_train1, y_train)))\n",
    "print(\"Coefficient of determination R^2 <-- on test set: {}\".format(rf_regressor.score(X_test1, y_test)))"
   ]
  },
  {
   "cell_type": "code",
   "execution_count": 75,
   "metadata": {},
   "outputs": [
    {
     "data": {
      "text/plain": [
       "<matplotlib.axes._subplots.AxesSubplot at 0x1c0bde01668>"
      ]
     },
     "execution_count": 75,
     "metadata": {},
     "output_type": "execute_result"
    },
    {
     "data": {
      "image/png": "[encoded data removed]",
      "text/plain": [
       "<Figure size 432x288 with 1 Axes>"
      ]
     },
     "metadata": {
      "needs_background": "light"
     },
     "output_type": "display_data"
    }
   ],
   "source": [
    "sns.distplot(y_test-y_pred_rf)"
   ]
  },
  {
   "cell_type": "code",
   "execution_count": 76,
   "metadata": {},
   "outputs": [
    {
     "data": {
      "text/plain": [
       "<matplotlib.collections.PathCollection at 0x1c085b61358>"
      ]
     },
     "execution_count": 76,
     "metadata": {},
     "output_type": "execute_result"
    },
    {
     "data": {
      "image/png": "[encoded data removed]",
      "text/plain": [
       "<Figure size 432x288 with 1 Axes>"
      ]
     },
     "metadata": {
      "needs_background": "light"
     },
     "output_type": "display_data"
    }
   ],
   "source": [
    "plt.scatter(y_test,y_pred_rf)"
   ]
  },
  {
   "cell_type": "markdown",
   "metadata": {},
   "source": [
    "## Hyperparameter Tuning for Random Forest"
   ]
  },
  {
   "cell_type": "code",
   "execution_count": 77,
   "metadata": {},
   "outputs": [],
   "source": [
    "from sklearn.model_selection import RandomizedSearchCV"
   ]
  },
  {
   "cell_type": "code",
   "execution_count": 78,
   "metadata": {},
   "outputs": [
    {
     "name": "stdout",
     "output_type": "stream",
     "text": [
      "[100, 200, 300, 400, 500]\n"
     ]
    }
   ],
   "source": [
    "n_estimators = [int(x) for x in np.linspace(start = 100, stop = 500, num = 5)]\n",
    "print(n_estimators)"
   ]
  },
  {
   "cell_type": "code",
   "execution_count": 79,
   "metadata": {},
   "outputs": [],
   "source": [
    " #Randomized Search CV\n",
    "\n",
    "# Number of trees in random forest\n",
    "n_estimators = [int(x) for x in np.linspace(start = 100, stop = 200, num = 3)]\n",
    "# Number of features to consider at every split\n",
    "max_features = ['auto', 'sqrt']\n",
    "# Maximum number of levels in tree\n",
    "max_depth = [10]\n",
    "# max_depth.append(None)\n",
    "# Minimum number of samples required to split a node\n",
    "min_samples_split = [10, 15]\n",
    "# Minimum number of samples required at each leaf node\n",
    "min_samples_leaf = [1, 2, 5, 10]\n",
    "# Method of selecting samples for training each tree\n",
    "# bootstrap = [True, False]\n"
   ]
  },
  {
   "cell_type": "code",
   "execution_count": 80,
   "metadata": {},
   "outputs": [
    {
     "name": "stdout",
     "output_type": "stream",
     "text": [
      "{'n_estimators': [100, 150, 200], 'max_features': ['auto', 'sqrt'], 'max_depth': [10], 'min_samples_split': [10, 15]}\n"
     ]
    }
   ],
   "source": [
    "# Create the random grid\n",
    "random_grid = {'n_estimators': n_estimators,\n",
    "               'max_features': max_features,\n",
    "               'max_depth': max_depth,\n",
    "               'min_samples_split': min_samples_split}\n",
    "               #'min_samples_leaf': min_samples_leaf}\n",
    "\n",
    "print(random_grid)"
   ]
  },
  {
   "cell_type": "code",
   "execution_count": 81,
   "metadata": {},
   "outputs": [],
   "source": [
    "# Random search of parameters, using 3 fold cross validation, \n",
    "# search across 100 different combinations\n",
    "rf_random = RandomizedSearchCV(estimator = rf_regressor, param_distributions = random_grid,\n",
    "                               scoring='neg_mean_squared_error', \n",
    "                               n_iter = 100, cv = 5, verbose=2, random_state=42, n_jobs = 1)"
   ]
  },
  {
   "cell_type": "code",
   "execution_count": 82,
   "metadata": {},
   "outputs": [
    {
     "name": "stderr",
     "output_type": "stream",
     "text": [
      "C:\\Users\\kiran kumar\\AppData\\Roaming\\Python\\Python37\\site-packages\\sklearn\\model_selection\\_search.py:281: UserWarning: The total space of parameters 12 is smaller than n_iter=100. Running 12 iterations. For exhaustive searches, use GridSearchCV.\n",
      "  % (grid_size, self.n_iter, grid_size), UserWarning)\n",
      "[Parallel(n_jobs=1)]: Using backend SequentialBackend with 1 concurrent workers.\n"
     ]
    },
    {
     "name": "stdout",
     "output_type": "stream",
     "text": [
      "Fitting 5 folds for each of 12 candidates, totalling 60 fits\n",
      "[CV] n_estimators=100, min_samples_split=10, max_features=auto, max_depth=10 \n",
      "[CV]  n_estimators=100, min_samples_split=10, max_features=auto, max_depth=10, total=  12.6s\n",
      "[CV] n_estimators=100, min_samples_split=10, max_features=auto, max_depth=10 \n"
     ]
    },
    {
     "name": "stderr",
     "output_type": "stream",
     "text": [
      "[Parallel(n_jobs=1)]: Done   1 out of   1 | elapsed:   12.5s remaining:    0.0s\n"
     ]
    },
    {
     "name": "stdout",
     "output_type": "stream",
     "text": [
      "[CV]  n_estimators=100, min_samples_split=10, max_features=auto, max_depth=10, total=  12.1s\n",
      "[CV] n_estimators=100, min_samples_split=10, max_features=auto, max_depth=10 \n",
      "[CV]  n_estimators=100, min_samples_split=10, max_features=auto, max_depth=10, total=  12.5s\n",
      "[CV] n_estimators=100, min_samples_split=10, max_features=auto, max_depth=10 \n",
      "[CV]  n_estimators=100, min_samples_split=10, max_features=auto, max_depth=10, total=  12.5s\n",
      "[CV] n_estimators=100, min_samples_split=10, max_features=auto, max_depth=10 \n",
      "[CV]  n_estimators=100, min_samples_split=10, max_features=auto, max_depth=10, total=  13.1s\n",
      "[CV] n_estimators=150, min_samples_split=10, max_features=auto, max_depth=10 \n",
      "[CV]  n_estimators=150, min_samples_split=10, max_features=auto, max_depth=10, total=  18.9s\n",
      "[CV] n_estimators=150, min_samples_split=10, max_features=auto, max_depth=10 \n",
      "[CV]  n_estimators=150, min_samples_split=10, max_features=auto, max_depth=10, total=  18.7s\n",
      "[CV] n_estimators=150, min_samples_split=10, max_features=auto, max_depth=10 \n",
      "[CV]  n_estimators=150, min_samples_split=10, max_features=auto, max_depth=10, total=  18.9s\n",
      "[CV] n_estimators=150, min_samples_split=10, max_features=auto, max_depth=10 \n",
      "[CV]  n_estimators=150, min_samples_split=10, max_features=auto, max_depth=10, total=  19.3s\n",
      "[CV] n_estimators=150, min_samples_split=10, max_features=auto, max_depth=10 \n",
      "[CV]  n_estimators=150, min_samples_split=10, max_features=auto, max_depth=10, total=  18.4s\n",
      "[CV] n_estimators=200, min_samples_split=10, max_features=auto, max_depth=10 \n",
      "[CV]  n_estimators=200, min_samples_split=10, max_features=auto, max_depth=10, total=  25.3s\n",
      "[CV] n_estimators=200, min_samples_split=10, max_features=auto, max_depth=10 \n",
      "[CV]  n_estimators=200, min_samples_split=10, max_features=auto, max_depth=10, total=  25.8s\n",
      "[CV] n_estimators=200, min_samples_split=10, max_features=auto, max_depth=10 \n",
      "[CV]  n_estimators=200, min_samples_split=10, max_features=auto, max_depth=10, total=  26.2s\n",
      "[CV] n_estimators=200, min_samples_split=10, max_features=auto, max_depth=10 \n",
      "[CV]  n_estimators=200, min_samples_split=10, max_features=auto, max_depth=10, total=  25.6s\n",
      "[CV] n_estimators=200, min_samples_split=10, max_features=auto, max_depth=10 \n",
      "[CV]  n_estimators=200, min_samples_split=10, max_features=auto, max_depth=10, total=  25.2s\n",
      "[CV] n_estimators=100, min_samples_split=15, max_features=auto, max_depth=10 \n",
      "[CV]  n_estimators=100, min_samples_split=15, max_features=auto, max_depth=10, total=  14.6s\n",
      "[CV] n_estimators=100, min_samples_split=15, max_features=auto, max_depth=10 \n",
      "[CV]  n_estimators=100, min_samples_split=15, max_features=auto, max_depth=10, total=  13.0s\n",
      "[CV] n_estimators=100, min_samples_split=15, max_features=auto, max_depth=10 \n",
      "[CV]  n_estimators=100, min_samples_split=15, max_features=auto, max_depth=10, total=  13.3s\n",
      "[CV] n_estimators=100, min_samples_split=15, max_features=auto, max_depth=10 \n",
      "[CV]  n_estimators=100, min_samples_split=15, max_features=auto, max_depth=10, total=  12.5s\n",
      "[CV] n_estimators=100, min_samples_split=15, max_features=auto, max_depth=10 \n",
      "[CV]  n_estimators=100, min_samples_split=15, max_features=auto, max_depth=10, total=  12.2s\n",
      "[CV] n_estimators=150, min_samples_split=15, max_features=auto, max_depth=10 \n",
      "[CV]  n_estimators=150, min_samples_split=15, max_features=auto, max_depth=10, total=  19.6s\n",
      "[CV] n_estimators=150, min_samples_split=15, max_features=auto, max_depth=10 \n",
      "[CV]  n_estimators=150, min_samples_split=15, max_features=auto, max_depth=10, total=  19.0s\n",
      "[CV] n_estimators=150, min_samples_split=15, max_features=auto, max_depth=10 \n",
      "[CV]  n_estimators=150, min_samples_split=15, max_features=auto, max_depth=10, total=  20.5s\n",
      "[CV] n_estimators=150, min_samples_split=15, max_features=auto, max_depth=10 \n",
      "[CV]  n_estimators=150, min_samples_split=15, max_features=auto, max_depth=10, total=  18.6s\n",
      "[CV] n_estimators=150, min_samples_split=15, max_features=auto, max_depth=10 \n",
      "[CV]  n_estimators=150, min_samples_split=15, max_features=auto, max_depth=10, total=  18.3s\n",
      "[CV] n_estimators=200, min_samples_split=15, max_features=auto, max_depth=10 \n",
      "[CV]  n_estimators=200, min_samples_split=15, max_features=auto, max_depth=10, total=  26.3s\n",
      "[CV] n_estimators=200, min_samples_split=15, max_features=auto, max_depth=10 \n",
      "[CV]  n_estimators=200, min_samples_split=15, max_features=auto, max_depth=10, total=  24.8s\n",
      "[CV] n_estimators=200, min_samples_split=15, max_features=auto, max_depth=10 \n",
      "[CV]  n_estimators=200, min_samples_split=15, max_features=auto, max_depth=10, total=  25.7s\n",
      "[CV] n_estimators=200, min_samples_split=15, max_features=auto, max_depth=10 \n",
      "[CV]  n_estimators=200, min_samples_split=15, max_features=auto, max_depth=10, total=  24.9s\n",
      "[CV] n_estimators=200, min_samples_split=15, max_features=auto, max_depth=10 \n",
      "[CV]  n_estimators=200, min_samples_split=15, max_features=auto, max_depth=10, total=  24.4s\n",
      "[CV] n_estimators=100, min_samples_split=10, max_features=sqrt, max_depth=10 \n",
      "[CV]  n_estimators=100, min_samples_split=10, max_features=sqrt, max_depth=10, total=   3.9s\n",
      "[CV] n_estimators=100, min_samples_split=10, max_features=sqrt, max_depth=10 \n",
      "[CV]  n_estimators=100, min_samples_split=10, max_features=sqrt, max_depth=10, total=   3.7s\n",
      "[CV] n_estimators=100, min_samples_split=10, max_features=sqrt, max_depth=10 \n",
      "[CV]  n_estimators=100, min_samples_split=10, max_features=sqrt, max_depth=10, total=   4.1s\n",
      "[CV] n_estimators=100, min_samples_split=10, max_features=sqrt, max_depth=10 \n",
      "[CV]  n_estimators=100, min_samples_split=10, max_features=sqrt, max_depth=10, total=   4.3s\n",
      "[CV] n_estimators=100, min_samples_split=10, max_features=sqrt, max_depth=10 \n",
      "[CV]  n_estimators=100, min_samples_split=10, max_features=sqrt, max_depth=10, total=   4.0s\n",
      "[CV] n_estimators=150, min_samples_split=10, max_features=sqrt, max_depth=10 \n",
      "[CV]  n_estimators=150, min_samples_split=10, max_features=sqrt, max_depth=10, total=   5.7s\n",
      "[CV] n_estimators=150, min_samples_split=10, max_features=sqrt, max_depth=10 \n",
      "[CV]  n_estimators=150, min_samples_split=10, max_features=sqrt, max_depth=10, total=   5.5s\n",
      "[CV] n_estimators=150, min_samples_split=10, max_features=sqrt, max_depth=10 \n",
      "[CV]  n_estimators=150, min_samples_split=10, max_features=sqrt, max_depth=10, total=   5.8s\n",
      "[CV] n_estimators=150, min_samples_split=10, max_features=sqrt, max_depth=10 \n",
      "[CV]  n_estimators=150, min_samples_split=10, max_features=sqrt, max_depth=10, total=   5.6s\n",
      "[CV] n_estimators=150, min_samples_split=10, max_features=sqrt, max_depth=10 \n",
      "[CV]  n_estimators=150, min_samples_split=10, max_features=sqrt, max_depth=10, total=   5.6s\n",
      "[CV] n_estimators=200, min_samples_split=10, max_features=sqrt, max_depth=10 \n",
      "[CV]  n_estimators=200, min_samples_split=10, max_features=sqrt, max_depth=10, total=   8.5s\n",
      "[CV] n_estimators=200, min_samples_split=10, max_features=sqrt, max_depth=10 \n",
      "[CV]  n_estimators=200, min_samples_split=10, max_features=sqrt, max_depth=10, total=   8.6s\n",
      "[CV] n_estimators=200, min_samples_split=10, max_features=sqrt, max_depth=10 \n",
      "[CV]  n_estimators=200, min_samples_split=10, max_features=sqrt, max_depth=10, total=   7.6s\n",
      "[CV] n_estimators=200, min_samples_split=10, max_features=sqrt, max_depth=10 \n",
      "[CV]  n_estimators=200, min_samples_split=10, max_features=sqrt, max_depth=10, total=   8.3s\n",
      "[CV] n_estimators=200, min_samples_split=10, max_features=sqrt, max_depth=10 \n",
      "[CV]  n_estimators=200, min_samples_split=10, max_features=sqrt, max_depth=10, total=   7.5s\n",
      "[CV] n_estimators=100, min_samples_split=15, max_features=sqrt, max_depth=10 \n",
      "[CV]  n_estimators=100, min_samples_split=15, max_features=sqrt, max_depth=10, total=   3.9s\n",
      "[CV] n_estimators=100, min_samples_split=15, max_features=sqrt, max_depth=10 \n",
      "[CV]  n_estimators=100, min_samples_split=15, max_features=sqrt, max_depth=10, total=   3.8s\n",
      "[CV] n_estimators=100, min_samples_split=15, max_features=sqrt, max_depth=10 \n",
      "[CV]  n_estimators=100, min_samples_split=15, max_features=sqrt, max_depth=10, total=   3.8s\n",
      "[CV] n_estimators=100, min_samples_split=15, max_features=sqrt, max_depth=10 \n",
      "[CV]  n_estimators=100, min_samples_split=15, max_features=sqrt, max_depth=10, total=   3.8s\n",
      "[CV] n_estimators=100, min_samples_split=15, max_features=sqrt, max_depth=10 \n"
     ]
    },
    {
     "name": "stdout",
     "output_type": "stream",
     "text": [
      "[CV]  n_estimators=100, min_samples_split=15, max_features=sqrt, max_depth=10, total=   3.9s\n",
      "[CV] n_estimators=150, min_samples_split=15, max_features=sqrt, max_depth=10 \n",
      "[CV]  n_estimators=150, min_samples_split=15, max_features=sqrt, max_depth=10, total=   6.5s\n",
      "[CV] n_estimators=150, min_samples_split=15, max_features=sqrt, max_depth=10 \n",
      "[CV]  n_estimators=150, min_samples_split=15, max_features=sqrt, max_depth=10, total=   7.1s\n",
      "[CV] n_estimators=150, min_samples_split=15, max_features=sqrt, max_depth=10 \n",
      "[CV]  n_estimators=150, min_samples_split=15, max_features=sqrt, max_depth=10, total=   6.9s\n",
      "[CV] n_estimators=150, min_samples_split=15, max_features=sqrt, max_depth=10 \n",
      "[CV]  n_estimators=150, min_samples_split=15, max_features=sqrt, max_depth=10, total=   6.1s\n",
      "[CV] n_estimators=150, min_samples_split=15, max_features=sqrt, max_depth=10 \n",
      "[CV]  n_estimators=150, min_samples_split=15, max_features=sqrt, max_depth=10, total=   5.8s\n",
      "[CV] n_estimators=200, min_samples_split=15, max_features=sqrt, max_depth=10 \n",
      "[CV]  n_estimators=200, min_samples_split=15, max_features=sqrt, max_depth=10, total=   8.5s\n",
      "[CV] n_estimators=200, min_samples_split=15, max_features=sqrt, max_depth=10 \n",
      "[CV]  n_estimators=200, min_samples_split=15, max_features=sqrt, max_depth=10, total=   7.3s\n",
      "[CV] n_estimators=200, min_samples_split=15, max_features=sqrt, max_depth=10 \n",
      "[CV]  n_estimators=200, min_samples_split=15, max_features=sqrt, max_depth=10, total=   7.5s\n",
      "[CV] n_estimators=200, min_samples_split=15, max_features=sqrt, max_depth=10 \n",
      "[CV]  n_estimators=200, min_samples_split=15, max_features=sqrt, max_depth=10, total=   7.4s\n",
      "[CV] n_estimators=200, min_samples_split=15, max_features=sqrt, max_depth=10 \n",
      "[CV]  n_estimators=200, min_samples_split=15, max_features=sqrt, max_depth=10, total=   7.4s\n"
     ]
    },
    {
     "name": "stderr",
     "output_type": "stream",
     "text": [
      "[Parallel(n_jobs=1)]: Done  60 out of  60 | elapsed: 12.5min finished\n"
     ]
    },
    {
     "data": {
      "text/plain": [
       "RandomizedSearchCV(cv=5, error_score=nan,\n",
       "                   estimator=RandomForestRegressor(bootstrap=True,\n",
       "                                                   ccp_alpha=0.0,\n",
       "                                                   criterion='mse',\n",
       "                                                   max_depth=None,\n",
       "                                                   max_features='auto',\n",
       "                                                   max_leaf_nodes=None,\n",
       "                                                   max_samples=None,\n",
       "                                                   min_impurity_decrease=0.0,\n",
       "                                                   min_impurity_split=None,\n",
       "                                                   min_samples_leaf=1,\n",
       "                                                   min_samples_split=2,\n",
       "                                                   min_weight_fraction_leaf=0.0,\n",
       "                                                   n_estimators=100,\n",
       "                                                   n_jobs=None, oob_score=False,\n",
       "                                                   random_state=None, verbose=0,\n",
       "                                                   warm_start=False),\n",
       "                   iid='deprecated', n_iter=100, n_jobs=1,\n",
       "                   param_distributions={'max_depth': [10],\n",
       "                                        'max_features': ['auto', 'sqrt'],\n",
       "                                        'min_samples_split': [10, 15],\n",
       "                                        'n_estimators': [100, 150, 200]},\n",
       "                   pre_dispatch='2*n_jobs', random_state=42, refit=True,\n",
       "                   return_train_score=False, scoring='neg_mean_squared_error',\n",
       "                   verbose=2)"
      ]
     },
     "execution_count": 82,
     "metadata": {},
     "output_type": "execute_result"
    }
   ],
   "source": [
    "rf_random.fit(X_train1,y_train)"
   ]
  },
  {
   "cell_type": "code",
   "execution_count": 83,
   "metadata": {},
   "outputs": [
    {
     "data": {
      "text/plain": [
       "{'n_estimators': 150,\n",
       " 'min_samples_split': 15,\n",
       " 'max_features': 'sqrt',\n",
       " 'max_depth': 10}"
      ]
     },
     "execution_count": 83,
     "metadata": {},
     "output_type": "execute_result"
    }
   ],
   "source": [
    "rf_random.best_params_"
   ]
  },
  {
   "cell_type": "code",
   "execution_count": 84,
   "metadata": {},
   "outputs": [
    {
     "data": {
      "text/plain": [
       "-0.5628813371590635"
      ]
     },
     "execution_count": 84,
     "metadata": {},
     "output_type": "execute_result"
    }
   ],
   "source": [
    "rf_random.best_score_"
   ]
  },
  {
   "cell_type": "code",
   "execution_count": 85,
   "metadata": {},
   "outputs": [],
   "source": [
    "rf_random_predictions = rf_random.predict(X_test1)"
   ]
  },
  {
   "cell_type": "code",
   "execution_count": 86,
   "metadata": {},
   "outputs": [
    {
     "data": {
      "text/plain": [
       "<matplotlib.axes._subplots.AxesSubplot at 0x1c085b8fa20>"
      ]
     },
     "execution_count": 86,
     "metadata": {},
     "output_type": "execute_result"
    },
    {
     "data": {
      "image/png": "[encoded data removed]",
      "text/plain": [
       "<Figure size 432x288 with 1 Axes>"
      ]
     },
     "metadata": {
      "needs_background": "light"
     },
     "output_type": "display_data"
    }
   ],
   "source": [
    "sns.distplot(y_test-rf_random_predictions)"
   ]
  },
  {
   "cell_type": "code",
   "execution_count": 87,
   "metadata": {},
   "outputs": [
    {
     "data": {
      "text/plain": [
       "<matplotlib.collections.PathCollection at 0x1c085c9d1d0>"
      ]
     },
     "execution_count": 87,
     "metadata": {},
     "output_type": "execute_result"
    },
    {
     "data": {
      "image/png": "[encoded data removed]",
      "text/plain": [
       "<Figure size 432x288 with 1 Axes>"
      ]
     },
     "metadata": {
      "needs_background": "light"
     },
     "output_type": "display_data"
    }
   ],
   "source": [
    "plt.scatter(y_test,rf_random_predictions)"
   ]
  },
  {
   "cell_type": "code",
   "execution_count": 88,
   "metadata": {},
   "outputs": [
    {
     "name": "stdout",
     "output_type": "stream",
     "text": [
      "MAE: 0.17123466243146224\n",
      "MSE: 0.5574297580352011\n",
      "RMSE: 0.7466121871729667\n"
     ]
    }
   ],
   "source": [
    "print('MAE:', metrics.mean_absolute_error(y_test, rf_random_predictions))\n",
    "print('MSE:', metrics.mean_squared_error(y_test, rf_random_predictions))\n",
    "print('RMSE:', np.sqrt(metrics.mean_squared_error(y_test, rf_random_predictions)))"
   ]
  },
  {
   "cell_type": "code",
   "execution_count": 91,
   "metadata": {},
   "outputs": [
    {
     "name": "stdout",
     "output_type": "stream",
     "text": [
      "Coefficient of determination R^2 <-- on train set: -0.302156880670673\n",
      "Coefficient of determination R^2 <-- on test set: -0.5574297580352011\n"
     ]
    }
   ],
   "source": [
    "print(\"Coefficient of determination R^2 <-- on train set: {}\".format(rf_random.score(X_train1, y_train)))\n",
    "print(\"Coefficient of determination R^2 <-- on test set: {}\".format(rf_random.score(X_test1, y_test)))"
   ]
  },
  {
   "cell_type": "code",
   "execution_count": null,
   "metadata": {},
   "outputs": [],
   "source": [
    "#!conda install -c ananconda py-xgboost"
   ]
  },
  {
   "cell_type": "code",
   "execution_count": 101,
   "metadata": {},
   "outputs": [],
   "source": [
    "from sklearn.neighbors import KNeighborsRegressor"
   ]
  },
  {
   "cell_type": "code",
   "execution_count": 102,
   "metadata": {},
   "outputs": [
    {
     "data": {
      "text/plain": [
       "KNeighborsRegressor(algorithm='auto', leaf_size=30, metric='minkowski',\n",
       "                    metric_params=None, n_jobs=None, n_neighbors=1, p=2,\n",
       "                    weights='uniform')"
      ]
     },
     "execution_count": 102,
     "metadata": {},
     "output_type": "execute_result"
    }
   ],
   "source": [
    "knn_regressor=KNeighborsRegressor(n_neighbors=1)\n",
    "knn_regressor.fit(X_train1,y_train)"
   ]
  },
  {
   "cell_type": "code",
   "execution_count": 103,
   "metadata": {},
   "outputs": [
    {
     "name": "stdout",
     "output_type": "stream",
     "text": [
      "Coefficient of determination R^2 <-- on train set: 0.9093985741472891\n",
      "Coefficient of determination R^2 <-- on train set: 0.10852443837818737\n"
     ]
    }
   ],
   "source": [
    "print(\"Coefficient of determination R^2 <-- on train set: {}\".format(knn_regressor.score(X_train1, y_train)))\n",
    "print(\"Coefficient of determination R^2 <-- on train set: {}\".format(knn_regressor.score(X_test1, y_test)))"
   ]
  },
  {
   "cell_type": "code",
   "execution_count": 109,
   "metadata": {},
   "outputs": [],
   "source": [
    "from sklearn.linear_model import Ridge\n",
    "from sklearn.model_selection import GridSearchCV"
   ]
  },
  {
   "cell_type": "code",
   "execution_count": 110,
   "metadata": {},
   "outputs": [
    {
     "data": {
      "text/plain": [
       "GridSearchCV(cv=5, error_score=nan,\n",
       "             estimator=Ridge(alpha=1.0, copy_X=True, fit_intercept=True,\n",
       "                             max_iter=None, normalize=False, random_state=None,\n",
       "                             solver='auto', tol=0.001),\n",
       "             iid='deprecated', n_jobs=None,\n",
       "             param_grid={'alpha': [1e-15, 1e-10, 1e-08, 0.001, 0.01, 1, 5, 10,\n",
       "                                   20, 30, 35, 40]},\n",
       "             pre_dispatch='2*n_jobs', refit=True, return_train_score=False,\n",
       "             scoring='neg_mean_squared_error', verbose=0)"
      ]
     },
     "execution_count": 110,
     "metadata": {},
     "output_type": "execute_result"
    }
   ],
   "source": [
    "ridge=Ridge()\n",
    "parameters={'alpha':[1e-15,1e-10,1e-8,1e-3,1e-2,1,5,10,20,30,35,40]}\n",
    "ridge_regressor=GridSearchCV(ridge,parameters,scoring='neg_mean_squared_error',cv=5)\n",
    "ridge_regressor.fit(X_train1,y_train)\n"
   ]
  },
  {
   "cell_type": "code",
   "execution_count": 111,
   "metadata": {},
   "outputs": [
    {
     "name": "stdout",
     "output_type": "stream",
     "text": [
      "{'alpha': 1}\n",
      "-0.6753874625643866\n"
     ]
    }
   ],
   "source": [
    "print(ridge_regressor.best_params_)\n",
    "print(ridge_regressor.best_score_)"
   ]
  },
  {
   "cell_type": "code",
   "execution_count": 112,
   "metadata": {},
   "outputs": [],
   "source": [
    "from sklearn.linear_model import Lasso\n"
   ]
  },
  {
   "cell_type": "code",
   "execution_count": 113,
   "metadata": {},
   "outputs": [
    {
     "name": "stderr",
     "output_type": "stream",
     "text": [
      "C:\\Users\\kiran kumar\\AppData\\Roaming\\Python\\Python37\\site-packages\\sklearn\\linear_model\\_coordinate_descent.py:476: ConvergenceWarning: Objective did not converge. You might want to increase the number of iterations. Duality gap: 15064.09087978068, tolerance: 4.773905457690436\n",
      "  positive)\n",
      "C:\\Users\\kiran kumar\\AppData\\Roaming\\Python\\Python37\\site-packages\\sklearn\\linear_model\\_coordinate_descent.py:476: ConvergenceWarning: Objective did not converge. You might want to increase the number of iterations. Duality gap: 5490.482838961101, tolerance: 1.3707335228744881\n",
      "  positive)\n",
      "C:\\Users\\kiran kumar\\AppData\\Roaming\\Python\\Python37\\site-packages\\sklearn\\linear_model\\_coordinate_descent.py:476: ConvergenceWarning: Objective did not converge. You might want to increase the number of iterations. Duality gap: 15740.18506530493, tolerance: 4.943915003099401\n",
      "  positive)\n",
      "C:\\Users\\kiran kumar\\AppData\\Roaming\\Python\\Python37\\site-packages\\sklearn\\linear_model\\_coordinate_descent.py:476: ConvergenceWarning: Objective did not converge. You might want to increase the number of iterations. Duality gap: 15485.04105800733, tolerance: 4.8773339329907675\n",
      "  positive)\n",
      "C:\\Users\\kiran kumar\\AppData\\Roaming\\Python\\Python37\\site-packages\\sklearn\\linear_model\\_coordinate_descent.py:476: ConvergenceWarning: Objective did not converge. You might want to increase the number of iterations. Duality gap: 15890.381694547166, tolerance: 4.965236461711497\n",
      "  positive)\n",
      "C:\\Users\\kiran kumar\\AppData\\Roaming\\Python\\Python37\\site-packages\\sklearn\\linear_model\\_coordinate_descent.py:476: ConvergenceWarning: Objective did not converge. You might want to increase the number of iterations. Duality gap: 15064.075641911159, tolerance: 4.773905457690436\n",
      "  positive)\n",
      "C:\\Users\\kiran kumar\\AppData\\Roaming\\Python\\Python37\\site-packages\\sklearn\\linear_model\\_coordinate_descent.py:476: ConvergenceWarning: Objective did not converge. You might want to increase the number of iterations. Duality gap: 5490.462768813652, tolerance: 1.3707335228744881\n",
      "  positive)\n",
      "C:\\Users\\kiran kumar\\AppData\\Roaming\\Python\\Python37\\site-packages\\sklearn\\linear_model\\_coordinate_descent.py:476: ConvergenceWarning: Objective did not converge. You might want to increase the number of iterations. Duality gap: 15740.163058586175, tolerance: 4.943915003099401\n",
      "  positive)\n",
      "C:\\Users\\kiran kumar\\AppData\\Roaming\\Python\\Python37\\site-packages\\sklearn\\linear_model\\_coordinate_descent.py:476: ConvergenceWarning: Objective did not converge. You might want to increase the number of iterations. Duality gap: 15485.006053748417, tolerance: 4.8773339329907675\n",
      "  positive)\n",
      "C:\\Users\\kiran kumar\\AppData\\Roaming\\Python\\Python37\\site-packages\\sklearn\\linear_model\\_coordinate_descent.py:476: ConvergenceWarning: Objective did not converge. You might want to increase the number of iterations. Duality gap: 15890.366017916838, tolerance: 4.965236461711497\n",
      "  positive)\n",
      "C:\\Users\\kiran kumar\\AppData\\Roaming\\Python\\Python37\\site-packages\\sklearn\\linear_model\\_coordinate_descent.py:476: ConvergenceWarning: Objective did not converge. You might want to increase the number of iterations. Duality gap: 15062.567073270322, tolerance: 4.773905457690436\n",
      "  positive)\n",
      "C:\\Users\\kiran kumar\\AppData\\Roaming\\Python\\Python37\\site-packages\\sklearn\\linear_model\\_coordinate_descent.py:476: ConvergenceWarning: Objective did not converge. You might want to increase the number of iterations. Duality gap: 5488.475627836879, tolerance: 1.3707335228744881\n",
      "  positive)\n",
      "C:\\Users\\kiran kumar\\AppData\\Roaming\\Python\\Python37\\site-packages\\sklearn\\linear_model\\_coordinate_descent.py:476: ConvergenceWarning: Objective did not converge. You might want to increase the number of iterations. Duality gap: 15737.984351631485, tolerance: 4.943915003099401\n",
      "  positive)\n",
      "C:\\Users\\kiran kumar\\AppData\\Roaming\\Python\\Python37\\site-packages\\sklearn\\linear_model\\_coordinate_descent.py:476: ConvergenceWarning: Objective did not converge. You might want to increase the number of iterations. Duality gap: 15481.54092926086, tolerance: 4.8773339329907675\n",
      "  positive)\n",
      "C:\\Users\\kiran kumar\\AppData\\Roaming\\Python\\Python37\\site-packages\\sklearn\\linear_model\\_coordinate_descent.py:476: ConvergenceWarning: Objective did not converge. You might want to increase the number of iterations. Duality gap: 15888.81401119291, tolerance: 4.965236461711497\n",
      "  positive)\n",
      "C:\\Users\\kiran kumar\\AppData\\Roaming\\Python\\Python37\\site-packages\\sklearn\\linear_model\\_coordinate_descent.py:476: ConvergenceWarning: Objective did not converge. You might want to increase the number of iterations. Duality gap: 16979.232357134235, tolerance: 5.2397\n",
      "  positive)\n"
     ]
    },
    {
     "data": {
      "text/plain": [
       "GridSearchCV(cv=5, error_score=nan,\n",
       "             estimator=Lasso(alpha=1.0, copy_X=True, fit_intercept=True,\n",
       "                             max_iter=1000, normalize=False, positive=False,\n",
       "                             precompute=False, random_state=None,\n",
       "                             selection='cyclic', tol=0.0001, warm_start=False),\n",
       "             iid='deprecated', n_jobs=None,\n",
       "             param_grid={'alpha': [1e-15, 1e-10, 1e-08, 0.001, 0.01, 1, 5, 10,\n",
       "                                   20, 30, 35, 40]},\n",
       "             pre_dispatch='2*n_jobs', refit=True, return_train_score=False,\n",
       "             scoring='neg_mean_squared_error', verbose=0)"
      ]
     },
     "execution_count": 113,
     "metadata": {},
     "output_type": "execute_result"
    },
    {
     "name": "stdout",
     "output_type": "stream",
     "text": [
      "{'alpha': 1e-15}\n",
      "-0.6748161792996628\n"
     ]
    }
   ],
   "source": [
    "lasso=Lasso()\n",
    "parameters={'alpha':[1e-15,1e-10,1e-8,1e-3,1e-2,1,5,10,20,30,35,40]}\n",
    "lasso_regressor=GridSearchCV(lasso,parameters,scoring='neg_mean_squared_error',cv=5)\n",
    "\n",
    "lasso_regressor.fit(X_train1,y_train)\n",
    "print(lasso_regressor.best_params_)\n",
    "print(lasso_regressor.best_score_)"
   ]
  },
  {
   "cell_type": "code",
   "execution_count": 115,
   "metadata": {},
   "outputs": [],
   "source": [
    "lasso_prediction=lasso_regressor.predict(X_test1)"
   ]
  },
  {
   "cell_type": "code",
   "execution_count": 116,
   "metadata": {},
   "outputs": [
    {
     "name": "stdout",
     "output_type": "stream",
     "text": [
      "MAE: 0.2510547069081097\n",
      "MSE: 0.6727669341976992\n",
      "RMSE: 0.8202237098485383\n"
     ]
    }
   ],
   "source": [
    "print('MAE:', metrics.mean_absolute_error(y_test, lasso_prediction))\n",
    "print('MSE:', metrics.mean_squared_error(y_test, lasso_prediction))\n",
    "print('RMSE:', np.sqrt(metrics.mean_squared_error(y_test, lasso_prediction)))"
   ]
  },
  {
   "cell_type": "code",
   "execution_count": 118,
   "metadata": {},
   "outputs": [
    {
     "name": "stdout",
     "output_type": "stream",
     "text": [
      "Coefficient of determination R^2 <-- on train set: -0.6480994086469877\n",
      "Coefficient of determination R^2 <-- on test set: -0.6727669341976992\n"
     ]
    }
   ],
   "source": [
    "print(\"Coefficient of determination R^2 <-- on train set: {}\".format(lasso_regressor.score(X_train1, y_train)))\n",
    "print(\"Coefficient of determination R^2 <-- on test set: {}\".format(lasso_regressor.score(X_test1, y_test)))"
   ]
  },
  {
   "cell_type": "code",
   "execution_count": null,
   "metadata": {},
   "outputs": [],
   "source": []
  }
 ],
 "metadata": {
  "kernelspec": {
   "display_name": "Python 3",
   "language": "python",
   "name": "python3"
  },
  "language_info": {
   "codemirror_mode": {
    "name": "ipython",
    "version": 3
   },
   "file_extension": ".py",
   "mimetype": "text/x-python",
   "name": "python",
   "nbconvert_exporter": "python",
   "pygments_lexer": "ipython3",
   "version": "3.7.4"
  }
 },
 "nbformat": 4,
 "nbformat_minor": 2
}
